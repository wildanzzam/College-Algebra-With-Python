{
 "cells": [
  {
   "cell_type": "markdown",
   "metadata": {},
   "source": [
    "#### Quadratic Functions - roots, vertext, graph"
   ]
  },
  {
   "cell_type": "code",
   "execution_count": 1,
   "metadata": {},
   "outputs": [
    {
     "name": "stdout",
     "output_type": "stream",
     "text": [
      "y =  12 x**2 +  -104 x +  160\n",
      "Vertex: ( 4.333333333333333 , -65.33333333333331 )\n",
      "Roots: x =  6.666666666666667  and x =  2.0\n"
     ]
    },
    {
     "data": {
      "image/png": "[encoded data removed]",
      "text/plain": [
       "<Figure size 640x480 with 1 Axes>"
      ]
     },
     "metadata": {},
     "output_type": "display_data"
    }
   ],
   "source": [
    "import matplotlib.pyplot as plt\n",
    "import numpy as np\n",
    "import math\n",
    "\n",
    "# Define the three coefficients here\n",
    "a = 12\n",
    "b = -104\n",
    "c = 160\n",
    "\n",
    "print(\"y = \", a, \"x**2 + \", b, \"x + \", c)\n",
    "\n",
    "# Vertex\n",
    "vx = -b/(2*a)\n",
    "vy = a*(vx**2) + b*vx + c\n",
    "print(\"Vertex: (\",vx,\",\",vy,\")\")\n",
    "\n",
    "# Roots\n",
    "d = b**2 - 4*a*c\n",
    "if d>=0:\n",
    "    root_1 = (-b + math.sqrt(d))/(2*a)\n",
    "    root_2 = (-b - math.sqrt(d))/(2*a)\n",
    "    print(\"Roots: x = \", root_1, \" and x = \", root_2)\n",
    "else:\n",
    "    print(\"No real roots\")\n",
    "\n",
    "xmin = -10\n",
    "xmax = 10\n",
    "ymin = -10\n",
    "ymax = 10\n",
    "points = 10*(xmax-xmin)\n",
    "x = np.linspace(xmin,xmax,points)\n",
    "\n",
    "fig, ax = plt.subplots()\n",
    "plt.axis([xmin,xmax,ymin,ymax]) # window size\n",
    "plt.plot([xmin,xmax],[0,0],'b') # blue x axis\n",
    "plt.plot([0,0],[ymin,ymax], 'b') # blue y axis\n",
    "\n",
    "# Graph the parabola\n",
    "y1 = a*x**2 + b*x + c\n",
    "plt.plot(x, y1)\n",
    "\n",
    "# Plot the vertex\n",
    "plt.plot([vx],[vy], 'ro')\n",
    "\n",
    "# Plot the roots\n",
    "plt.plot([root_1, root_2],[0,0], 'go')\n",
    "\n",
    "plt.show()"
   ]
  },
  {
   "cell_type": "markdown",
   "metadata": {},
   "source": [
    "#### Parent Graphs"
   ]
  },
  {
   "cell_type": "markdown",
   "metadata": {},
   "source": [
    "Notice that Python already includes some math functions, and some functions require you to `import numpy as np` to solve or graph them.<p>\n",
    "<table>\n",
    "<tr><td>Math notation</td><td> Python notation </td></tr>\n",
    "<tr><td> y = x</td><td> y = x</td></tr>\n",
    "<tr><td> y = x<sup>2</sup></td><td> y = x**2 </td></tr>\n",
    "<tr><td> y = x<sup>3</sup></td><td> y = x**3 </td></tr>\n",
    "<tr><td> y = |x|</td><td> y = abs(x) </td></tr>\n",
    "<tr><td> y =  $\\sqrt{x}$</td><td> y = np.sqrt(x) </td></tr>\n",
    "<tr><td> y = x<sup>1/3</sup></td><td> y = np.cbrt(x) </td></tr>\n",
    "<tr><td> y = $\\lfloor x \\rfloor$</td><td> y = np.floor(x) </td></tr>\n",
    "<tr><td> y = 2<sup>x</sup></td><td> y = 2**x </td></tr>\n",
    "<tr><td> y = e<sup>x</sup></td><td> y = math.e**2 </td></tr>\n",
    "<tr><td> y = ln(x)</td><td> y = np.log(x) </td></tr>\n",
    "<tr><td> y = log<sub>2</sub>(x)</td><td> y = np.log2(x) </td></tr>\n",
    "<tr><td> y = log(x)</td><td> y = np.log10(x) </td></tr>"
   ]
  },
  {
   "cell_type": "markdown",
   "metadata": {},
   "source": [
    "#### Compound interest calculator\n",
    "\n",
    "When the compunding happens <i>n</i> times per year:<br>\n",
    "Annuity = P(1 +  $\\frac{r}{n})^{nt}$<p>\n",
    "When the growth is continuous: <br>\n",
    "Annuity = Pe<sup>rt</sup>"
   ]
  },
  {
   "cell_type": "code",
   "execution_count": 2,
   "metadata": {},
   "outputs": [
    {
     "name": "stdout",
     "output_type": "stream",
     "text": [
      "Annuity when compounded  1  times per year =  1.01\n",
      "Annuity when compounded continuously =  1.010050167084168\n"
     ]
    }
   ],
   "source": [
    "import math\n",
    "\n",
    "# Change these variables\n",
    "p = 1\n",
    "r = .01\n",
    "t = 1\n",
    "n = 1\n",
    "\n",
    "n_times = p*(1+(r/n))**(n*t)\n",
    "continuous = p*math.e**(r*t)\n",
    "\n",
    "print(\"Annuity when compounded \", n, \" times per year = \", n_times)\n",
    "print(\"Annuity when compounded continuously = \", continuous)\n",
    "\n"
   ]
  },
  {
   "cell_type": "markdown",
   "metadata": {},
   "source": [
    "#### Investment Annuity Estimator\n",
    "\n",
    "Calculte the value in a retirement account, given regular monthly contributions and an estimated rate of increase"
   ]
  },
  {
   "cell_type": "code",
   "execution_count": 3,
   "metadata": {},
   "outputs": [
    {
     "name": "stdout",
     "output_type": "stream",
     "text": [
      "annuity =  1061597.32\n",
      "Annual income from interest =  84927.79\n"
     ]
    }
   ],
   "source": [
    "# Change these variables\n",
    "p = 1000\n",
    "r = .08\n",
    "t = 38\n",
    "monthly = 350\n",
    "\n",
    "# The loop will update this variable\n",
    "annuity = p\n",
    "\n",
    "# loop for contribution and percent growth\n",
    "for a in range(12*t):\n",
    "    annuity = (annuity+monthly)*(1+(r/12))\n",
    "\n",
    "print(\"annuity = \", round(annuity, 2))\n",
    "print(\"Annual income from interest = \", round(annuity*r, 2))\n"
   ]
  },
  {
   "cell_type": "markdown",
   "metadata": {},
   "source": [
    "#### Mortgage Payment Calculator\n",
    "\n",
    "Mortgage payment formula:<p>\n",
    "monthly payment = P $\\frac{\\frac{r}{12}(1 + \\frac{r}{12})^{12t}}{(1 + \\frac{r}{12})^{12t} - 1}$\n"
   ]
  },
  {
   "cell_type": "code",
   "execution_count": 8,
   "metadata": {},
   "outputs": [
    {
     "name": "stdout",
     "output_type": "stream",
     "text": [
      "monthly payment =  2201.29\n"
     ]
    }
   ],
   "source": [
    "# Change these values\n",
    "p = 300000\n",
    "r = .08\n",
    "t = 30\n",
    "\n",
    "# Break down that formula into parts\n",
    "numerator = (r/12)*(1+(r/12))**(12*t)\n",
    "denominator = (1+(r/12))**(12*t) - 1\n",
    "payment = round(p*numerator/denominator, 2)\n",
    "\n",
    "print(\"monthly payment = \", payment)"
   ]
  },
  {
   "cell_type": "markdown",
   "metadata": {},
   "source": [
    "#### Graphing Data From a Table\n",
    "\n",
    "This code will give you the imports you need, and you will see several ways to get a .csv file from other sources. comment out the code you don't need. Run this once, then you can run the next code cell several times."
   ]
  },
  {
   "cell_type": "code",
   "execution_count": 10,
   "metadata": {},
   "outputs": [
    {
     "data": {
      "text/html": [
       "<div>\n",
       "<style scoped>\n",
       "    .dataframe tbody tr th:only-of-type {\n",
       "        vertical-align: middle;\n",
       "    }\n",
       "\n",
       "    .dataframe tbody tr th {\n",
       "        vertical-align: top;\n",
       "    }\n",
       "\n",
       "    .dataframe thead th {\n",
       "        text-align: right;\n",
       "    }\n",
       "</style>\n",
       "<table border=\"1\" class=\"dataframe\">\n",
       "  <thead>\n",
       "    <tr style=\"text-align: right;\">\n",
       "      <th></th>\n",
       "      <th>Index</th>\n",
       "      <th>\"Eruption length (mins)\"</th>\n",
       "      <th>Eruption wait (mins)</th>\n",
       "    </tr>\n",
       "  </thead>\n",
       "  <tbody>\n",
       "    <tr>\n",
       "      <th>0</th>\n",
       "      <td>1</td>\n",
       "      <td>3.600</td>\n",
       "      <td>79</td>\n",
       "    </tr>\n",
       "    <tr>\n",
       "      <th>1</th>\n",
       "      <td>2</td>\n",
       "      <td>1.800</td>\n",
       "      <td>54</td>\n",
       "    </tr>\n",
       "    <tr>\n",
       "      <th>2</th>\n",
       "      <td>3</td>\n",
       "      <td>3.333</td>\n",
       "      <td>74</td>\n",
       "    </tr>\n",
       "    <tr>\n",
       "      <th>3</th>\n",
       "      <td>4</td>\n",
       "      <td>2.283</td>\n",
       "      <td>62</td>\n",
       "    </tr>\n",
       "    <tr>\n",
       "      <th>4</th>\n",
       "      <td>5</td>\n",
       "      <td>4.533</td>\n",
       "      <td>85</td>\n",
       "    </tr>\n",
       "    <tr>\n",
       "      <th>...</th>\n",
       "      <td>...</td>\n",
       "      <td>...</td>\n",
       "      <td>...</td>\n",
       "    </tr>\n",
       "    <tr>\n",
       "      <th>267</th>\n",
       "      <td>268</td>\n",
       "      <td>4.117</td>\n",
       "      <td>81</td>\n",
       "    </tr>\n",
       "    <tr>\n",
       "      <th>268</th>\n",
       "      <td>269</td>\n",
       "      <td>2.150</td>\n",
       "      <td>46</td>\n",
       "    </tr>\n",
       "    <tr>\n",
       "      <th>269</th>\n",
       "      <td>270</td>\n",
       "      <td>4.417</td>\n",
       "      <td>90</td>\n",
       "    </tr>\n",
       "    <tr>\n",
       "      <th>270</th>\n",
       "      <td>271</td>\n",
       "      <td>1.817</td>\n",
       "      <td>46</td>\n",
       "    </tr>\n",
       "    <tr>\n",
       "      <th>271</th>\n",
       "      <td>272</td>\n",
       "      <td>4.467</td>\n",
       "      <td>74</td>\n",
       "    </tr>\n",
       "  </tbody>\n",
       "</table>\n",
       "<p>272 rows × 3 columns</p>\n",
       "</div>"
      ],
      "text/plain": [
       "     Index   \"Eruption length (mins)\"  Eruption wait (mins)\n",
       "0        1                      3.600                    79\n",
       "1        2                      1.800                    54\n",
       "2        3                      3.333                    74\n",
       "3        4                      2.283                    62\n",
       "4        5                      4.533                    85\n",
       "..     ...                        ...                   ...\n",
       "267    268                      4.117                    81\n",
       "268    269                      2.150                    46\n",
       "269    270                      4.417                    90\n",
       "270    271                      1.817                    46\n",
       "271    272                      4.467                    74\n",
       "\n",
       "[272 rows x 3 columns]"
      ]
     },
     "execution_count": 10,
     "metadata": {},
     "output_type": "execute_result"
    }
   ],
   "source": [
    "import pandas as pd\n",
    "import matplotlib.pyplot as plt\n",
    "import io\n",
    "\n",
    "# dialog to upload from computer:\n",
    "# uploaded = files.upload()\n",
    "# file_name = next(iter(uploaded))\n",
    "# table_1 = pd.read_csv(io.BytesIO(uploaded[file_name]))\n",
    "\n",
    "# example url:\n",
    "url = \"https://people.sc.fsu.edu/~jburkardt/data/csv/faithful.csv\"\n",
    "\n",
    "# Dialog to input a url\n",
    "# url = input(\"URL of the csv: \")\n",
    "table_1 = pd.read_csv(url)\n",
    "table_1\n"
   ]
  },
  {
   "cell_type": "code",
   "execution_count": 11,
   "metadata": {},
   "outputs": [
    {
     "name": "stdout",
     "output_type": "stream",
     "text": [
      "   Index   \"Eruption length (mins)\"  Eruption wait (mins)\n",
      "0      1                      3.600                    79\n",
      "1      2                      1.800                    54\n",
      "2      3                      3.333                    74\n",
      "3      4                      2.283                    62\n",
      "4      5                      4.533                    85\n"
     ]
    },
    {
     "data": {
      "image/png": "[encoded data removed]",
      "text/plain": [
       "<Figure size 640x480 with 1 Axes>"
      ]
     },
     "metadata": {},
     "output_type": "display_data"
    }
   ],
   "source": [
    "# Get the headers\n",
    "print(table_1.head())\n",
    "\n",
    "# Describe is also a good feature\n",
    "# table_1[' \"Eruption length (mins)\"'].describe()\n",
    "# table_1['Index'].describe()\n",
    "\n",
    "# Convert values to numpy arrays to graph\n",
    "x = table_1['Index'].to_numpy()\n",
    "y = table_1[' \"Eruption length (mins)\"'].to_numpy()\n",
    "\n",
    "# Graph dimensions\n",
    "xmin = x.min() - 5\n",
    "xmax = x.max() + 5\n",
    "ymin = y.min() - 5\n",
    "ymax = y.max() + 5\n",
    "\n",
    "fig, ax = plt.subplots()\n",
    "plt.axis([xmin,xmax,ymin,ymax]) # window size\n",
    "plt.plot([xmin,xmax],[0,0],'b') # blue x axis\n",
    "plt.plot([0,0],[ymin,ymax], 'b') # blue y axis\n",
    "plt.plot(x,y,'ro') # make it scatterplot or line graph\n",
    "plt.show()\n"
   ]
  }
 ],
 "metadata": {
  "kernelspec": {
   "display_name": "Python 3",
   "language": "python",
   "name": "python3"
  },
  "language_info": {
   "name": "python",
   "version": "3.12.1"
  }
 },
 "nbformat": 4,
 "nbformat_minor": 2
}
