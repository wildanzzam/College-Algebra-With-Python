{
 "cells": [
  {
   "cell_type": "markdown",
   "metadata": {},
   "source": [
    "#### Simple Interest\n",
    "\n",
    "Simple interest\n",
    "principle * rate * time = interest"
   ]
  },
  {
   "cell_type": "code",
   "execution_count": 1,
   "metadata": {},
   "outputs": [
    {
     "name": "stdout",
     "output_type": "stream",
     "text": [
      "interest =  50.0\n"
     ]
    }
   ],
   "source": [
    "# For example 1 year\n",
    "p = 1000\n",
    "r = .05\n",
    "t = 1\n",
    "interest = p*r*t\n",
    "print(\"interest = \", interest)"
   ]
  },
  {
   "cell_type": "code",
   "execution_count": 2,
   "metadata": {},
   "outputs": [
    {
     "name": "stdout",
     "output_type": "stream",
     "text": [
      "interest =  150.0\n"
     ]
    }
   ],
   "source": [
    "# For example 3 year\n",
    "p = 1000\n",
    "r = .05\n",
    "t = 3\n",
    "interest = p*r*t\n",
    "print(\"interest = \", interest)"
   ]
  },
  {
   "cell_type": "markdown",
   "metadata": {},
   "source": [
    "#### Total Amount\n",
    "\n",
    "New amount = principle + interest"
   ]
  },
  {
   "cell_type": "code",
   "execution_count": 3,
   "metadata": {},
   "outputs": [
    {
     "name": "stdout",
     "output_type": "stream",
     "text": [
      "New amount =  1150.0\n"
     ]
    }
   ],
   "source": [
    "p = 1000\n",
    "r = .05\n",
    "t = 3\n",
    "interest = p*r*t\n",
    "a = p + interest\n",
    "print(\"New amount = \", a)"
   ]
  },
  {
   "cell_type": "markdown",
   "metadata": {},
   "source": [
    "#### Percentage Increase\n",
    "\n",
    "The algebra for any percent increase: <br>\n",
    "New amount = p + p*r <br>\n",
    "new amount = p * (1 + r)"
   ]
  },
  {
   "cell_type": "code",
   "execution_count": 4,
   "metadata": {},
   "outputs": [
    {
     "name": "stdout",
     "output_type": "stream",
     "text": [
      "New amount =  1050.0\n"
     ]
    }
   ],
   "source": [
    "p = 1000\n",
    "r = .05\n",
    "a = p*(1+r)\n",
    "print(\"New amount = \", a)"
   ]
  },
  {
   "cell_type": "markdown",
   "metadata": {},
   "source": [
    "#### Compounding for years"
   ]
  },
  {
   "cell_type": "markdown",
   "metadata": {},
   "source": [
    "Compounding is adding the interest to the principle and then calculating percent increase from this new amount<br>\n",
    "Original amount = P<br>\n",
    "New amount = P*(1+r)<br>\n",
    "Compounded again = P*(1+r)*(1+r)<br>\n",
    "And again = P*(1+r)*(1+r)*(1+r) = P(1+r)<sup>3</sup>"
   ]
  },
  {
   "cell_type": "code",
   "execution_count": 5,
   "metadata": {},
   "outputs": [
    {
     "name": "stdout",
     "output_type": "stream",
     "text": [
      "Annuity =  1157.6250000000002\n"
     ]
    }
   ],
   "source": [
    "P = 1000\n",
    "r = .05\n",
    "t = 3\n",
    "annuity = p*(1+r)**t\n",
    "\n",
    "print(\"Annuity = \", annuity)"
   ]
  },
  {
   "cell_type": "markdown",
   "metadata": {},
   "source": [
    "#### Compounding happens `n` times per year"
   ]
  },
  {
   "cell_type": "markdown",
   "metadata": {},
   "source": [
    "When the compunding happens `n` times per year, here is the formula:<br>\n",
    "A = P(1 +  $\\frac{r}{n})^{nt}$"
   ]
  },
  {
   "cell_type": "code",
   "execution_count": 6,
   "metadata": {},
   "outputs": [
    {
     "name": "stdout",
     "output_type": "stream",
     "text": [
      "Annuity =  1161.4722313334678\n"
     ]
    }
   ],
   "source": [
    "P = 1000\n",
    "r = .05\n",
    "t = 3\n",
    "n = 12 # 12 times in a year or annually\n",
    "\n",
    "# use extra parentheses\n",
    "annuity = p*(1+(r/n))**(n*t)\n",
    "\n",
    "print(\"Annuity = \", annuity)\n"
   ]
  },
  {
   "cell_type": "markdown",
   "metadata": {},
   "source": [
    "#### The Irrational Number e"
   ]
  },
  {
   "cell_type": "code",
   "execution_count": 7,
   "metadata": {},
   "outputs": [
    {
     "name": "stdout",
     "output_type": "stream",
     "text": [
      "2.718281828459045\n"
     ]
    }
   ],
   "source": [
    "import math\n",
    "\n",
    "print(math.e)"
   ]
  },
  {
   "cell_type": "markdown",
   "metadata": {},
   "source": [
    "#### Continuous growth: Annuity = Pe<sup>rt</sup>"
   ]
  },
  {
   "cell_type": "code",
   "execution_count": 10,
   "metadata": {},
   "outputs": [
    {
     "name": "stdout",
     "output_type": "stream",
     "text": [
      "1161.8298860036332  or  1161.834242728283\n"
     ]
    }
   ],
   "source": [
    "import math\n",
    "\n",
    "p = 1000\n",
    "r = .05\n",
    "t = 3\n",
    "n = 1000 #\n",
    "\n",
    "n_times = p*(1+(r/n))**(n*t) # compounding n times per year formula\n",
    "\n",
    "continuous = p*math.e**(r*t) # continuous growth annuity formula\n",
    "\n",
    "print(n_times, \" or \", continuous)"
   ]
  },
  {
   "cell_type": "markdown",
   "metadata": {},
   "source": [
    "The continuous growth gives us more (right side)"
   ]
  },
  {
   "cell_type": "markdown",
   "metadata": {},
   "source": [
    "#### The Mortgage Formula"
   ]
  },
  {
   "cell_type": "markdown",
   "metadata": {},
   "source": [
    "Mortgage formula<br>\n",
    "monthly payment = P $ \\frac{\\frac{r}{12}(1 + \\frac{r}{12})^{12t}}{(1 + \\frac{r}{12})^{12t} - 1}$ "
   ]
  },
  {
   "cell_type": "code",
   "execution_count": 11,
   "metadata": {},
   "outputs": [
    {
     "name": "stdout",
     "output_type": "stream",
     "text": [
      "monthly payment =  1362.69\n"
     ]
    }
   ],
   "source": [
    "p = 240000 # 240 k US Dollars\n",
    "r = .055 # 5.5 %\n",
    "t = 30 # 30 years\n",
    "\n",
    "# Break down that formula into parts\n",
    "numerator = (r/12)*(1+(r/12))**(12*t) \n",
    "denominator = (1+(r/12))**(12*t) - 1 \n",
    "payment = round(p*numerator/denominator, 2)\n",
    "\n",
    "print(\"monthly payment = \", payment)"
   ]
  },
  {
   "cell_type": "markdown",
   "metadata": {},
   "source": [
    "#### Amortization (mortgage payment schedule)"
   ]
  },
  {
   "cell_type": "code",
   "execution_count": 12,
   "metadata": {},
   "outputs": [
    {
     "name": "stdout",
     "output_type": "stream",
     "text": [
      "payment =  1362.69\n",
      "month \t balance \t interest\n",
      "0 \t 240000.0 \t 1100.0\n",
      "24 \t 233351.69 \t 1069.53\n",
      "48 \t 225932.19 \t 1035.52\n",
      "72 \t 217652.04 \t 997.57\n",
      "96 \t 208411.46 \t 955.22\n",
      "120 \t 198098.97 \t 907.95\n",
      "144 \t 186590.25 \t 855.21\n",
      "168 \t 173746.54 \t 796.34\n",
      "192 \t 159412.99 \t 730.64\n",
      "216 \t 143416.81 \t 657.33\n",
      "240 \t 125565.08 \t 575.51\n",
      "264 \t 105642.58 \t 484.2\n",
      "288 \t 83409.15 \t 382.29\n",
      "312 \t 58596.68 \t 268.57\n",
      "336 \t 30906.0 \t 141.65\n",
      "359 \t 1359.74 \t 6.23\n"
     ]
    }
   ],
   "source": [
    "p = 240000.00\n",
    "r = .055\n",
    "t = 30\n",
    "\n",
    "\n",
    "# Break down that formula into parts\n",
    "# Formula to pay monthly\n",
    "numerator = (r/12)*(1+(r/12))**(12*t) \n",
    "denominator = (1+(r/12))**(12*t) - 1\n",
    "payment = round(p* numerator/denominator, 2)\n",
    "\n",
    "print(\"payment = \", payment)\n",
    "\n",
    "# loop to show interest amounts\n",
    "balance = p # Start at Original P\n",
    "print(\"month \\t balance \\t interest\") #\\t is tab \n",
    "for a in range(12*t): # How many months? 12*time\n",
    "    interest = round(balance*r/12, 2) # Balance times rate divided by time (1/12)\n",
    "    if a%24==0 or a==359: #Modulus: If a divided by 24 the remainder 0 \n",
    "                          # Or if a divided by 24 the remainder is 359 \n",
    "        print(a, \"\\t\", balance, \"\\t\", interest) \n",
    "    balance = round(balance+interest-payment,2) # Increase the balance method\n",
    "\n"
   ]
  },
  {
   "cell_type": "markdown",
   "metadata": {},
   "source": [
    "Here are the balance and interest amounts at the start, every 2 years, and the last month of the loan term (show above table):\n",
    "\n",
    "The monthly payment for the loan is $1,362.69.\n",
    "\n",
    "Explanation: \n",
    "- Month 0: The initial balance is $240,000.00 with the first month's interest of $1,100.00.\n",
    "\n",
    "- Every 24 months: Shows the balance and interest amounts decreasing over time as the loan is paid down.\n",
    "\n",
    "- Month 359: The balance is $1,359.74 with the interest of $6.23, indicating the loan is nearly paid off by the end of the 30 years.\n",
    "\n",
    "This illustrates how the principal is gradually paid down over the life of the loan, with the interest portion decreasing as the balance reduces."
   ]
  },
  {
   "cell_type": "markdown",
   "metadata": {},
   "source": [
    "#### Retirement Account Estimation\n",
    "\n",
    "This money is not money that we are borrowing but it is money that we put into account for retirement.\n",
    "\n",
    "So, instead of owing money, we will contribute monthly.\n",
    "\n",
    "Contribution and percent growth\n",
    "annuity = (annuity + monthly)* $ (1 + \\frac{r}{12}) $"
   ]
  },
  {
   "cell_type": "code",
   "execution_count": 13,
   "metadata": {},
   "outputs": [
    {
     "name": "stdout",
     "output_type": "stream",
     "text": [
      "annuity =  1061597.32\n",
      "Annual income from interest =  84927.79\n"
     ]
    }
   ],
   "source": [
    "# Change these variables\n",
    "p = 1000\n",
    "r = .08 # 8%\n",
    "t = 38 # 38 years\n",
    "monthly = 350\n",
    "\n",
    "# The loop will update this variable\n",
    "annuity = p\n",
    "\n",
    "# loop for contribution and percent growth\n",
    "for a in range(12*t):\n",
    "    annuity = (annuity+monthly)*(1+(r/12)) # It gonna grow\n",
    "\n",
    "print(\"annuity = \", round(annuity, 2))\n",
    "print(\"Annual income from interest = \", round(annuity*r, 2))\n"
   ]
  },
  {
   "cell_type": "markdown",
   "metadata": {},
   "source": [
    "#### Extras"
   ]
  },
  {
   "cell_type": "markdown",
   "metadata": {},
   "source": [
    "#### Payment Function Without Rounding\n",
    "\n",
    "monthly payment = P $ \\frac{\\frac{r}{12}(1 + \\frac{r}{12})^{12t}}{(1 + \\frac{r}{12})^{12t} - 1}$ "
   ]
  },
  {
   "cell_type": "code",
   "execution_count": 14,
   "metadata": {},
   "outputs": [
    {
     "name": "stdout",
     "output_type": "stream",
     "text": [
      "1199.1010503055138\n"
     ]
    }
   ],
   "source": [
    "def payment(p,r,t): # Principle, Rate and Times\n",
    "    numerator = (r/12)*(1+(r/12))**(12*t) \n",
    "    denominator = (1+(r/12))**(12*t) - 1 \n",
    "    payment = p*numerator/denominator\n",
    "    return payment\n",
    "\n",
    "print(payment(200000,.06,30))"
   ]
  },
  {
   "cell_type": "markdown",
   "metadata": {},
   "source": [
    "#### Similar Function with Rounding to Compare Payment for Slight Changes in Principle"
   ]
  },
  {
   "cell_type": "markdown",
   "metadata": {},
   "source": [
    "Formula  \n",
    "\n",
    "monthly payment = P $ \\frac{\\frac{r}{12}(1 + \\frac{r}{12})^{12t}}{(1 + \\frac{r}{12})^{12t} - 1}$ "
   ]
  },
  {
   "cell_type": "code",
   "execution_count": 1,
   "metadata": {},
   "outputs": [
    {
     "data": {
      "application/vnd.jupyter.widget-view+json": {
       "model_id": "bd9df740a271466a81b0a49d386d0022",
       "version_major": 2,
       "version_minor": 0
      },
      "text/plain": [
       "interactive(children=(IntSlider(value=150000, description='p', max=300000), Output()), _dom_classes=('widget-i…"
      ]
     },
     "execution_count": 1,
     "metadata": {},
     "output_type": "execute_result"
    }
   ],
   "source": [
    "%matplotlib inline\n",
    "from ipywidgets import interactive\n",
    "\n",
    "def pmt(p): # We just gonna take principle as arguments\n",
    "    r = .06\n",
    "    t = 30\n",
    "    numerator = (r/12)*(1+(r/12))**(12*t) \n",
    "    denominator = (1+(r/12))**(12*t) - 1 \n",
    "    pay = round(p*numerator/denominator, 2)\n",
    "    print(\"Principle: \", p, \" Payment: \", pay)\n",
    "\n",
    "show_slider = interactive(pmt, p=(0,300000))\n",
    "show_slider\n"
   ]
  },
  {
   "cell_type": "markdown",
   "metadata": {},
   "source": [
    "#### Maybe Notice the Trend, So Graph it and See"
   ]
  },
  {
   "cell_type": "code",
   "execution_count": 18,
   "metadata": {},
   "outputs": [
    {
     "data": {
      "image/png": "[encoded data removed]",
      "text/plain": [
       "<Figure size 640x480 with 1 Axes>"
      ]
     },
     "metadata": {},
     "output_type": "display_data"
    }
   ],
   "source": [
    "import matplotlib.pyplot as plt\n",
    "import numpy as np\n",
    "\n",
    "xmin = 0\n",
    "xmax = 300000\n",
    "ymin = 0\n",
    "ymax = 4000\n",
    "# number of points between xmax - xmin\n",
    "points = 10*xmax-xmin\n",
    "# Generate specific array between xmin and xmax\n",
    "# Generate point between xmin and xmax\n",
    "x = np.linspace(xmin, xmax, points)\n",
    "\n",
    "fig, ax = plt.subplots()\n",
    "plt.axis([xmin,xmax,ymin,ymax]) # window size\n",
    "plt.plot([xmin,xmax],[0,0],'black') # black x axis\n",
    "plt.plot([0,0],[ymin,ymax], 'black') # black y axis\n",
    "plt.grid()\n",
    "ax.set_xlabel(\"amount borrowed\")\n",
    "ax.set_ylabel(\"monthly payment\")\n",
    "\n",
    "    \n",
    "# Line 1 - payment without rounding\n",
    "y1 = payment(x,.06,30) # P(x,r,t)\n",
    "plt.plot(x, y1)\n",
    "plt.show()"
   ]
  },
  {
   "cell_type": "markdown",
   "metadata": {},
   "source": [
    "#### Slope Formula"
   ]
  },
  {
   "cell_type": "code",
   "execution_count": 19,
   "metadata": {},
   "outputs": [
    {
     "name": "stdout",
     "output_type": "stream",
     "text": [
      "Slope =  0.0059955052515275695\n"
     ]
    }
   ],
   "source": [
    "r = .06 # Rate\n",
    "t = 30 # Time\n",
    "\n",
    "x1 = 50000\n",
    "y1 = payment(x1,r,t)\n",
    "x2 = 300000\n",
    "y2 = payment(x2,r,t)\n",
    "\n",
    "\n",
    "slope = (y2-y1)/(x2-x1)\n",
    "print(\"Slope = \", slope)"
   ]
  },
  {
   "cell_type": "markdown",
   "metadata": {},
   "source": [
    "$5.99 for every thousand extra dollars we borrow"
   ]
  }
 ],
 "metadata": {
  "kernelspec": {
   "display_name": "Python 3",
   "language": "python",
   "name": "python3"
  },
  "language_info": {
   "codemirror_mode": {
    "name": "ipython",
    "version": 3
   },
   "file_extension": ".py",
   "mimetype": "text/x-python",
   "name": "python",
   "nbconvert_exporter": "python",
   "pygments_lexer": "ipython3",
   "version": "3.12.1"
  }
 },
 "nbformat": 4,
 "nbformat_minor": 2
}
