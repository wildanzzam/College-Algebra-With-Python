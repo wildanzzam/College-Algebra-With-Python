{
 "cells": [
  {
   "cell_type": "markdown",
   "metadata": {},
   "source": [
    "#### The modulus (`%`) finds the remainder "
   ]
  },
  {
   "cell_type": "code",
   "execution_count": 2,
   "metadata": {},
   "outputs": [
    {
     "name": "stdout",
     "output_type": "stream",
     "text": [
      "2\n",
      "1\n"
     ]
    }
   ],
   "source": [
    "print(5%3) \n",
    "\n",
    "print(31%10) \n"
   ]
  },
  {
   "cell_type": "markdown",
   "metadata": {},
   "source": [
    "#### Use the modulus in a loop to find factors"
   ]
  },
  {
   "cell_type": "code",
   "execution_count": 3,
   "metadata": {},
   "outputs": [
    {
     "name": "stdout",
     "output_type": "stream",
     "text": [
      "1\n",
      "2\n",
      "3\n",
      "4\n",
      "6\n",
      "12\n"
     ]
    }
   ],
   "source": [
    "number = 12 \n",
    "\n",
    "# Find all factors \n",
    "for test_factor in range(1,number+1): \n",
    "    if number%test_factor==0: \n",
    "        print(test_factor) "
   ]
  },
  {
   "cell_type": "markdown",
   "metadata": {},
   "source": [
    "#### Reduce fractions to lowest terms"
   ]
  },
  {
   "cell_type": "code",
   "execution_count": 4,
   "metadata": {},
   "outputs": [
    {
     "name": "stdout",
     "output_type": "stream",
     "text": [
      "original:  12 / 24\n",
      "reduced:  1 / 2\n"
     ]
    }
   ],
   "source": [
    "numerator = 12\n",
    "denominator = 24\n",
    "factor = 1\n",
    "\n",
    "# Find greatest common factor \n",
    "for test_factor in range(1,denominator+1): \n",
    "    if numerator%test_factor==0 and denominator%test_factor==0:\n",
    "        factor = test_factor \n",
    "\n",
    "# Divide out greatest common factor \n",
    "n = int(numerator/factor) \n",
    "d = int(denominator/factor) \n",
    "\n",
    "print(\"original: \", numerator, \"/\", denominator) \n",
    "print(\"reduced: \", n, \"/\", d) \n"
   ]
  },
  {
   "cell_type": "markdown",
   "metadata": {},
   "source": [
    "#### You can add this code to the decimal-to-fraction code"
   ]
  },
  {
   "cell_type": "code",
   "execution_count": 6,
   "metadata": {},
   "outputs": [
    {
     "name": "stdout",
     "output_type": "stream",
     "text": [
      "Enter a decimal number to conver:  0.123\n",
      "The decimal is  0.123\n",
      "The fraction is  123 / 1000\n"
     ]
    }
   ],
   "source": [
    "# Get the decimal number to convert\n",
    "digits = input(\"Enter a decimal number to convert: \") \n",
    "\n",
    "# Convert to fraction \n",
    "exponent = int(len(digits))-1 \n",
    "n = float(digits) \n",
    "numerator = int(n * 10**exponent) \n",
    "denominator = 10**exponent \n",
    "\n",
    "# Reduce that fraction\n",
    "factor = 1 \n",
    "for test_factor in range(1,denominator+1): \n",
    "    if numerator%test_factor==0 and denominator%test_factor==0: \n",
    "        factor = test_factor \n",
    "\n",
    "# Divide out greatest common factor \n",
    "num = int(numerator/factor) \n",
    "den = int(denominator/factor) \n",
    "\n",
    "# Output \n",
    "print(\"Enter a decimal number to conver: \", n)\n",
    "print(\"The decimal is \", n) \n",
    "print(\"The fraction is \", num, \"/\", den) "
   ]
  },
  {
   "cell_type": "markdown",
   "metadata": {},
   "source": [
    "#### Next level... factoring square roots"
   ]
  },
  {
   "cell_type": "code",
   "execution_count": 8,
   "metadata": {},
   "outputs": [
    {
     "name": "stdout",
     "output_type": "stream",
     "text": [
      "5.0\n"
     ]
    }
   ],
   "source": [
    "import math\n",
    "\n",
    "print(math.sqrt(25)) "
   ]
  },
  {
   "cell_type": "code",
   "execution_count": 9,
   "metadata": {},
   "outputs": [
    {
     "name": "stdout",
     "output_type": "stream",
     "text": [
      "4.898979485566356\n"
     ]
    }
   ],
   "source": [
    "import math\n",
    "\n",
    "print(math.sqrt(24)) "
   ]
  },
  {
   "cell_type": "markdown",
   "metadata": {},
   "source": [
    "Divide out any perfect square factors. For example:<br>\n",
    " $\\sqrt{12}$ = $\\sqrt{4 * 3}$ = 2 $\\sqrt{3}$ <br>\n",
    "Because 4 is a square number, the square root of 4 is now outside the radical."
   ]
  },
  {
   "cell_type": "code",
   "execution_count": 10,
   "metadata": {},
   "outputs": [
    {
     "name": "stdout",
     "output_type": "stream",
     "text": [
      "n =  12\n",
      "Square rooted factor =  2\n",
      "Square factor =  4\n",
      "integer:  3.0\n"
     ]
    }
   ],
   "source": [
    "import math\n",
    "\n",
    "# number to factor\n",
    "n = 12 \n",
    "\n",
    "# This variable will change\n",
    "max_factor = 1 \n",
    "\n",
    "# The key ingredient\n",
    "upper_limit = math.floor(math.sqrt(n)) + 1 #take that sqrt + 1 which will be upper limit\n",
    "\n",
    "# Find square factors\n",
    "for maybe_factor in range(1,upper_limit): \n",
    "    if n % (maybe_factor**2) == 0: \n",
    "        max_factor = maybe_factor \n",
    "\n",
    "# Results so far\n",
    "print(\"n = \", n) \n",
    "print(\"Square rooted factor = \", max_factor) \n",
    "print(\"Square factor = \", max_factor**2) \n",
    "print(\"integer: \", n/(max_factor**2)) "
   ]
  },
  {
   "cell_type": "markdown",
   "metadata": {},
   "source": [
    "#### Using Sympy to make this look nice"
   ]
  },
  {
   "cell_type": "code",
   "execution_count": 13,
   "metadata": {},
   "outputs": [
    {
     "data": {
      "text/latex": [
       "$\\displaystyle 2 \\sqrt{6}$"
      ],
      "text/plain": [
       "2*sqrt(6)"
      ]
     },
     "execution_count": 13,
     "metadata": {},
     "output_type": "execute_result"
    }
   ],
   "source": [
    "import math\n",
    "import sympy\n",
    "from sympy import symbols\n",
    "\n",
    "n = 24 \n",
    "\n",
    "# Use these variables\n",
    "upper_limit = math.floor(math.sqrt(n)) + 1 \n",
    "max_factor = 1 \n",
    "other_factor = 1 \n",
    "square_root = 1 \n",
    "\n",
    "# Slightly different variable strategy\n",
    "for maybe_factor in range(1, upper_limit): \n",
    "    if n % (maybe_factor**2) == 0: \n",
    "        max_factor = maybe_factor**2 \n",
    "\n",
    "# Divide out the greatest square factor\n",
    "other_factor = n/max_factor \n",
    "\n",
    "# Output variables\n",
    "square_root = int(math.sqrt(max_factor)) \n",
    "other_factor = int(other_factor) \n",
    "output = square_root*sympy.sqrt(other_factor) \n",
    "\n",
    "# Sympy output without print statement - must be last line\n",
    "output "
   ]
  },
  {
   "cell_type": "markdown",
   "metadata": {},
   "source": [
    "[![freeCodeCamp](https://cdn.freecodecamp.org/testable-projects-fcc/images/fcc_secondary.svg)](https://freecodecamp.org/)"
   ]
  },
  {
   "cell_type": "markdown",
   "metadata": {},
   "source": [
    "**Learn Foundational Math 1 by Building an Equation Solver**<br>\n",
    "Each of these steps will lead you toward the Certification Project. First you have to copy the files and set them up in your Google Drive."
   ]
  },
  {
   "cell_type": "markdown",
   "metadata": {},
   "source": [
    "# &darr; **Do this first** &darr;\n",
    "Make sure you are logged into your Google account, and copy this notebook to your own account. Click \"File\" (at the top of this page) and then click \"Save a copy in Drive.\"  The file will be in a folder called \"Colab Notebooks\" in your Google Drive. "
   ]
  },
  {
   "cell_type": "markdown",
   "metadata": {},
   "source": [
    "### Directions - Click to expand the next step <br>\n",
    "Click on the little <i>triangle</i> next to the word \"Step\" to do that step. Once you complete a step, click the triangle to expand the next step."
   ]
  },
  {
   "cell_type": "markdown",
   "metadata": {},
   "source": [
    "#### Step 0 - Acquire the testing Library\n",
    "\n"
   ]
  },
  {
   "cell_type": "markdown",
   "metadata": {},
   "source": [
    "Please run this code to get the library file from FreeCodeCamp. Each step will use this library to test your code. You do not need to edit anything; just run this code cell and wait a few seconds until it tells you to go on to the next step."
   ]
  },
  {
   "cell_type": "code",
   "execution_count": 2,
   "metadata": {},
   "outputs": [
    {
     "name": "stdout",
     "output_type": "stream",
     "text": [
      "Defaulting to user installation because normal site-packages is not writeable\n",
      "Requirement already satisfied: requests in c:\\users\\60115\\appdata\\roaming\\python\\python312\\site-packages (2.32.3)\n",
      "Requirement already satisfied: charset-normalizer<4,>=2 in c:\\users\\60115\\appdata\\roaming\\python\\python312\\site-packages (from requests) (3.3.2)\n",
      "Requirement already satisfied: idna<4,>=2.5 in c:\\users\\60115\\appdata\\roaming\\python\\python312\\site-packages (from requests) (3.6)\n",
      "Requirement already satisfied: urllib3<3,>=1.21.1 in c:\\users\\60115\\appdata\\roaming\\python\\python312\\site-packages (from requests) (1.26.18)\n",
      "Requirement already satisfied: certifi>=2017.4.17 in c:\\users\\60115\\appdata\\roaming\\python\\python312\\site-packages (from requests) (2024.2.2)\n",
      "\n",
      " Test passed. You can go on to the next step.\n"
     ]
    }
   ],
   "source": [
    "# You may need to run this cell at the beginning of each new session\n",
    "\n",
    "!pip install requests\n",
    "\n",
    "# This will just take a few seconds\n",
    "\n",
    "import requests\n",
    "\n",
    "# Get the library from GitHub\n",
    "url = 'https://raw.githubusercontent.com/freeCodeCamp/cdn/main/build/math-cert-tests/math-code-test-a.py'\n",
    "r = requests.get(url)\n",
    "\n",
    "# Save the library in a local working directory \n",
    "with open('math_code_test_a.py', 'w') as f:\n",
    "    f.write(r.text)\n",
    "\n",
    "# Now you can import the library\n",
    "import math_code_test_a as test\n",
    "\n",
    "# This will tell you if the code works\n",
    "test.step19()"
   ]
  },
  {
   "cell_type": "markdown",
   "metadata": {},
   "source": [
    "#### Step 1 - Add"
   ]
  },
  {
   "cell_type": "markdown",
   "metadata": {},
   "source": [
    "To help you get familiar with Colab notebooks, you will start with the basics. Python uses `+`, `-`, `*`, and `/` for the four math operations: <i>add</i>, <i>subtract</i>, <i>multiply</i>, and <i>divide</i>. When you add two numbers, the result is the <i>sum</i>. Use addition within the `print` statement to get the sum of `a` and `b`. To run the code, you can hit \"shift\" and \"enter\" or you can click the run button (the triangle inside a circle)."
   ]
  },
  {
   "cell_type": "code",
   "execution_count": 18,
   "metadata": {},
   "outputs": [
    {
     "name": "stdout",
     "output_type": "stream",
     "text": [
      "3\n",
      " \n",
      "Code test passed\n",
      "Go on to the next step\n"
     ]
    }
   ],
   "source": [
    "a=1\n",
    "b=2\n",
    "\n",
    "# Change the next line to print the sum of a and b\n",
    "print(a + b )\n",
    "\n",
    "\n",
    "# Only change code above this line\n",
    "import math_code_test_a as test\n",
    "test.step01(In[-1].split('# Only change code above this line')[0])"
   ]
  },
  {
   "cell_type": "markdown",
   "metadata": {},
   "source": [
    "#### Step 2 - Subtract"
   ]
  },
  {
   "cell_type": "markdown",
   "metadata": {},
   "source": [
    "When you subtract two numbers, the result is the <i>difference</i>. Use subtraction in the print statement to get the difference between `c` and `d`. Remember to use \"shift\" and \"enter\" to run the code.\n"
   ]
  },
  {
   "cell_type": "code",
   "execution_count": 19,
   "metadata": {},
   "outputs": [
    {
     "name": "stdout",
     "output_type": "stream",
     "text": [
      "4\n",
      " \n",
      "Code test passed\n",
      "Go on to the next step\n"
     ]
    }
   ],
   "source": [
    "c = 7\n",
    "d = 3\n",
    "\n",
    "# Change the next line to print the positive difference between c and d\n",
    "print(c-d)\n",
    "\n",
    "\n",
    "# Only change code above this line\n",
    "import math_code_test_a as test\n",
    "test.step02(In[-1].split('# Only change code above this line')[0])"
   ]
  },
  {
   "cell_type": "markdown",
   "metadata": {},
   "source": [
    "#### Step 3 - Multiply"
   ]
  },
  {
   "cell_type": "markdown",
   "metadata": {},
   "source": [
    "When you multiply numbers, the result is the <i>product</i>. Use multiplication within the print statement to get the product of `e` and `f`:\n"
   ]
  },
  {
   "cell_type": "code",
   "execution_count": 20,
   "metadata": {},
   "outputs": [
    {
     "name": "stdout",
     "output_type": "stream",
     "text": [
      "8\n",
      " \n",
      "Code test passed\n",
      "Go on to the next step\n"
     ]
    }
   ],
   "source": [
    "e = 2\n",
    "f = 4\n",
    "\n",
    "# Change the next line to print the product of e and f\n",
    "print(e*f)\n",
    "\n",
    "\n",
    "# Only change code above this line\n",
    "import math_code_test_a as test\n",
    "test.step03(In[-1].split('# Only change code above this line')[0])"
   ]
  },
  {
   "cell_type": "markdown",
   "metadata": {},
   "source": [
    "#### Step 4 - Divide"
   ]
  },
  {
   "cell_type": "markdown",
   "metadata": {},
   "source": [
    "When you divide two numbers, the result is the <i>quotient</i>. Use division within the print statement to get the quotient of `g` and `h`:"
   ]
  },
  {
   "cell_type": "code",
   "execution_count": 21,
   "metadata": {},
   "outputs": [
    {
     "name": "stdout",
     "output_type": "stream",
     "text": [
      "2.0\n",
      " \n",
      "Code test passed\n",
      "Go on to the next step\n"
     ]
    }
   ],
   "source": [
    "g = 8\n",
    "h = 4\n",
    "\n",
    "# Change the next line\n",
    "print(g/h)\n",
    "\n",
    "\n",
    "# Only change code above this line\n",
    "import math_code_test_a as test\n",
    "test.step04(In[-1].split('# Only change code above this line')[0])"
   ]
  },
  {
   "cell_type": "markdown",
   "metadata": {},
   "source": [
    "#### Step 5 -  Cast Input"
   ]
  },
  {
   "cell_type": "markdown",
   "metadata": {},
   "source": [
    "User input comes in as a <i>string</i>, so you need to cast it as an <i>integer</i> or a <i>float</i> before doing any math. The code below asks for input and uses `int()` to cast it as an integer. Follow the model and cast the second variable as an integer. Then run the code an test it. (Remember to hit \"enter\" after you type each integer in the box.)\n"
   ]
  },
  {
   "cell_type": "code",
   "execution_count": 22,
   "metadata": {},
   "outputs": [
    {
     "name": "stdout",
     "output_type": "stream",
     "text": [
      "11\n",
      " \n",
      "Code test passed\n",
      "Go on to the next step\n"
     ]
    }
   ],
   "source": [
    "strA = input('Enter a positive integer: ')\n",
    "intA = int(strA)\n",
    "\n",
    "strB = input('Enter another positive integer: ')\n",
    "\n",
    "# Change the next line but keep the variable name:\n",
    "intB = int(strB)\n",
    "\n",
    "\n",
    "print(intA+intB)\n",
    "\n",
    "\n",
    "# Only change code above this line\n",
    "import math_code_test_a as test\n",
    "test.step05(In[-1].split('# Only change code above this line')[0])"
   ]
  },
  {
   "cell_type": "markdown",
   "metadata": {},
   "source": [
    "#### Step 6 - Input and cast on the same line"
   ]
  },
  {
   "cell_type": "markdown",
   "metadata": {},
   "source": [
    "You can prompt for input and cast that input on the same line. Notice the nested functions in the first line of code. Follow that model to prompt for input and cast that input as an integer on the same line."
   ]
  },
  {
   "cell_type": "code",
   "execution_count": 23,
   "metadata": {},
   "outputs": [
    {
     "name": "stdout",
     "output_type": "stream",
     "text": [
      "10\n",
      " \n",
      "You should use intB = int(input('Enter an integer: ')) in your code\n"
     ]
    }
   ],
   "source": [
    "intA = int(input('Enter an integer: '))\n",
    "\n",
    "# Change the next line but keep the variable name:\n",
    "intB = int(input('Enter another integer: '))\n",
    "\n",
    "\n",
    "print(intA+intB)\n",
    "\n",
    "\n",
    "# Only change code above this line\n",
    "import math_code_test_a as test\n",
    "test.step06(In[-1].split('# Only change code above this line')[0])"
   ]
  },
  {
   "cell_type": "markdown",
   "metadata": {},
   "source": [
    "#### Step 7 - Float numbers"
   ]
  },
  {
   "cell_type": "markdown",
   "metadata": {},
   "source": [
    "A <i>float</i> number allows decimal places. When prompting for a number as input, casting that as a <i>float</i> is usually the best choice. Follow the model below to prompt for input and cast that input as a <i>float</i> on the same line."
   ]
  },
  {
   "cell_type": "code",
   "execution_count": 24,
   "metadata": {},
   "outputs": [
    {
     "name": "stdout",
     "output_type": "stream",
     "text": [
      "0.75\n",
      " \n",
      "Code test passed\n",
      "Go on to the next step\n"
     ]
    }
   ],
   "source": [
    "a = float(input('Enter a number: '))\n",
    "\n",
    "# Change the next line but keep the variable name:\n",
    "b = float(input('Enter a number: '))\n",
    "\n",
    "\n",
    "print(a/b)\n",
    "\n",
    "\n",
    "# Only change code above this line\n",
    "import math_code_test_a as test\n",
    "test.step07(In[-1].split('# Only change code above this line')[0])"
   ]
  },
  {
   "cell_type": "markdown",
   "metadata": {},
   "source": [
    "#### Step 8 - Order of Operations"
   ]
  },
  {
   "cell_type": "markdown",
   "metadata": {},
   "source": [
    "You may have heard of the <b>order of operations</b> and the acronym <b>PEMDAS</b>, which reminds you of the correct order. This means that you do what is in <b>Parentheses</b> first, then simplify <b>Exponents</b>. You then do all of the <b>Multiplication</b> and <b>Division</b> together, as long as you work from left to right and simplify them in order. \n",
    "\n",
    "The same is true of <b>Addition</b> and <b>Subtraction</b>: work from left to right and simplify the one the comes up next. Python knows the order of operations. In the following code, Python will calculate the actual_answer correctly. Notice the use of `**` to indicate an exponent. Do the arithmetic in your head (no writing code) and change the `your_answer` variable, then run the code to see if your_answer matches the actual_answer."
   ]
  },
  {
   "cell_type": "code",
   "execution_count": 26,
   "metadata": {},
   "outputs": [
    {
     "name": "stdout",
     "output_type": "stream",
     "text": [
      "Actual answer is  8.0\n",
      "Your answer is  8\n",
      " \n",
      "Code test passed\n",
      "Go on to the next step\n"
     ]
    }
   ],
   "source": [
    "actual_answer = (1+4*2-14/2)**3\n",
    "\n",
    "# Put your answer on the following line:\n",
    "your_answer = 8\n",
    "\n",
    "print('Actual answer is ', actual_answer)\n",
    "print('Your answer is ', your_answer)\n",
    "\n",
    "\n",
    "# Only change code above this line\n",
    "import math_code_test_a as test\n",
    "test.step08(your_answer)"
   ]
  },
  {
   "cell_type": "markdown",
   "metadata": {},
   "source": [
    "#### Step 9 - Remainder and Modulus"
   ]
  },
  {
   "cell_type": "markdown",
   "metadata": {},
   "source": [
    "A <i>remainder</i> is what is left over when you try to divide two numbers and it doesn’t divide evenly. The remainder of 10 / 4 is 2 because 4 goes into 10 two whole times, with 2 left over. The <i>modulus</i> (`%`) operator will output the remainder, so `10 % 4` will return 2. Use the modulus operator to find the remainder of a divided by b:"
   ]
  },
  {
   "cell_type": "code",
   "execution_count": 28,
   "metadata": {},
   "outputs": [
    {
     "name": "stdout",
     "output_type": "stream",
     "text": [
      "3.0\n",
      " \n",
      "You should use print(a % b) in your code\n"
     ]
    }
   ],
   "source": [
    "a = 18\n",
    "b = 6\n",
    "\n",
    "# Change this line\n",
    "print(a/b)\n",
    "\n",
    "\n",
    "# Only change code above this line\n",
    "import math_code_test_a as test\n",
    "test.step09(In[-1].split('# Only change code above this line')[0])"
   ]
  },
  {
   "cell_type": "markdown",
   "metadata": {},
   "source": [
    "#### Step 10 - Modulus and Factors"
   ]
  },
  {
   "cell_type": "markdown",
   "metadata": {},
   "source": [
    "Use an `if` statement with the modulus operator to find out if one number is a factor of another. For example, to see if 5 is a factor of 20, you can test `if 20 % 5 == 0`. If there's no remainder, the second number is a factor of the first. \n",
    "\n",
    "Remember that Python comparisons use `==` to test values. Remember that the `if` statement ends in a colon (`:`) and the resulting block is indented four spaces. Finish the code below to print \"true\" if `test_factor` is a factor of `number` and print \"false\" if it is not."
   ]
  },
  {
   "cell_type": "code",
   "execution_count": 30,
   "metadata": {},
   "outputs": [
    {
     "name": "stdout",
     "output_type": "stream",
     "text": [
      "true\n",
      " \n",
      "Code test passed\n",
      "Go on to the next step\n"
     ]
    }
   ],
   "source": [
    "number = int(input('Enter an integer: '))\n",
    "test_factor = int(input('Enter an integer to see if it’s a factor: '))\n",
    "\n",
    "# Change the next line to test the factor:\n",
    "if number%test_factor==0:\n",
    "    print('true')\n",
    "else:\n",
    "    print('false')\n",
    "\n",
    "\n",
    "# Only change code above this line\n",
    "import math_code_test_a as test\n",
    "test.step10(In[-1].split('# Only change code above this line')[0])"
   ]
  },
  {
   "cell_type": "markdown",
   "metadata": {},
   "source": [
    "#### Step 11 - Finding factors"
   ]
  },
  {
   "cell_type": "markdown",
   "metadata": {},
   "source": [
    "Now you will find all of the factors of a number. This code has a loop with a variable, `test_factor`, that iterates through a defined range. Remember that the first line defining the loop ends in a colon (:) and each line in the loop requires a four-space indent. Change the `if` statement to find all the factors of `number`."
   ]
  },
  {
   "cell_type": "code",
   "execution_count": 31,
   "metadata": {},
   "outputs": [
    {
     "name": "stdout",
     "output_type": "stream",
     "text": [
      "1\n",
      "2\n",
      "3\n",
      "4\n",
      "6\n",
      "12\n",
      " \n",
      "Code test passed\n",
      "Go on to the next step\n"
     ]
    }
   ],
   "source": [
    "number = int(input('Enter an integer: '))\n",
    "\n",
    "# Only change the if statement:\n",
    "for test_factor in range(1, number+1):\n",
    "    if number%test_factor==0:\n",
    "        print(test_factor)\n",
    "        \n",
    "\n",
    "# Only change code above this line\n",
    "import math_code_test_a as test\n",
    "test.step11(In[-1].split('# Only change code above this line')[0])"
   ]
  },
  {
   "cell_type": "markdown",
   "metadata": {},
   "source": [
    "#### Step 12 - Prime Numbers"
   ]
  },
  {
   "cell_type": "markdown",
   "metadata": {},
   "source": [
    "A <i>prime</i> number is a number whose only factors are 1 and itself. The number 5 is prime because its only factors are 1 and 5, but the 6 is not prime because it has 1, 2, 3, and 6 as factors. Any number that is not a prime is a <i>composite</i>. For each iteration in the loop, `test_number` will be a possible factor. Change the `if` statement so that the code prints \"composite\" if `number` is not prime."
   ]
  },
  {
   "cell_type": "code",
   "execution_count": 33,
   "metadata": {},
   "outputs": [
    {
     "name": "stdout",
     "output_type": "stream",
     "text": [
      "prime\n",
      " \n",
      "Code test passed\n",
      "Go on to the next step\n"
     ]
    }
   ],
   "source": [
    "number = int(input(\"Enter a positive integer: \"))\n",
    "\n",
    "prime_or_comp = \"prime\"\n",
    "\n",
    "for test_number in range(2,number): # notice that we started at range 2 because one \n",
    "                                    # will go into everything and that's not what we want\n",
    "    # Change the if statement to test one factor here:\n",
    "    if number%test_number==0:\n",
    "        prime_or_comp = \"composite\" \n",
    "\n",
    "print(prime_or_comp)\n",
    "\n",
    "\n",
    "# Only change code above this line\n",
    "import math_code_test_a as test\n",
    "test.step12(In[-1].split('# Only change code above this line')[0])"
   ]
  },
  {
   "cell_type": "markdown",
   "metadata": {},
   "source": [
    "#### Step 13 - Reciprocals"
   ]
  },
  {
   "cell_type": "markdown",
   "metadata": {},
   "source": [
    "A *reciprocal* is a number \"flipped.\" The reciprocal of $\\frac{2}{3}$ is $\\frac{3}{2}$ and the reciprocal of 5 is $\\frac{1}{5}$ because whole numbers have denominators of 1. You can multiply a number by its reciprocal to get 1, so 5 * $\\frac{1}{5}$ = 1 and $\\frac{2}{3}$ * $\\frac{3}{2}$ = 1. \n",
    "\n",
    "To get the reciprocal of a number, take 1 divided by that number. Trying to get the reciprocal of zero will lead to a \"divide by zero\" error. Use a print statement to output the reciprocal of `n` as a decimal. "
   ]
  },
  {
   "cell_type": "code",
   "execution_count": 34,
   "metadata": {},
   "outputs": [
    {
     "name": "stdout",
     "output_type": "stream",
     "text": [
      "0.25\n",
      " \n",
      "Code test passed\n",
      "Go on to the next step\n"
     ]
    }
   ],
   "source": [
    "n = float(input('Enter a number: '))\n",
    "\n",
    "# Write your code here\n",
    "print(1/n)\n",
    "\n",
    "\n",
    "# Only change code above this line\n",
    "import math_code_test_a as test\n",
    "test.step13(In[-1].split('# Only change code above this line')[0])"
   ]
  },
  {
   "cell_type": "markdown",
   "metadata": {},
   "source": [
    "#### Step 14 - Splitting input"
   ]
  },
  {
   "cell_type": "markdown",
   "metadata": {},
   "source": [
    "The code below asks for two integers, separated by a comma, then splits the input at the comma. Notice the input remains a string, then the `split()` function creates an array with two elements. Finish the following code to cast the two variables `a` and `b` as `float` numbers, then divide the two numbers and print the result."
   ]
  },
  {
   "cell_type": "code",
   "execution_count": 39,
   "metadata": {},
   "outputs": [
    {
     "name": "stdout",
     "output_type": "stream",
     "text": [
      "0.8888888888888888\n",
      " \n",
      "Code test passed\n",
      "Go on to the next step\n"
     ]
    }
   ],
   "source": [
    "nums = input('Enter two numbers, separated by a comma: ')\n",
    "sp = nums.split(\",\")\n",
    "\n",
    "# Use the next line as a model:\n",
    "a = float(sp[0])\n",
    "\n",
    "# Change the next line to cast the number as a float:\n",
    "b = float(sp[1])\n",
    "\n",
    "# Change the print statement:\n",
    "print(a/b)\n",
    "\n",
    "\n",
    "# Only change code above this line\n",
    "import math_code_test_a as test\n",
    "test.step14(In[-1].split('# Only change code above this line')[0])"
   ]
  },
  {
   "cell_type": "markdown",
   "metadata": {},
   "source": [
    "#### Step 15 - Square Numbers"
   ]
  },
  {
   "cell_type": "markdown",
   "metadata": {},
   "source": [
    "One factor multiplied by itself will produce a <i>square</i> number, so a number raised to an exponent of 2 is that number <i>squared</i> (like calculating the area of a square). Python uses `**` to indicate exponents. Complete the code to print the square of the input."
   ]
  },
  {
   "cell_type": "code",
   "execution_count": 40,
   "metadata": {},
   "outputs": [
    {
     "name": "stdout",
     "output_type": "stream",
     "text": [
      "25.0\n",
      " \n",
      "Code test passed\n",
      "Go on to the next step\n"
     ]
    }
   ],
   "source": [
    "n = float(input('Enter a number to square: '))\n",
    "\n",
    "# Change this line of code:\n",
    "print(n**2)\n",
    "\n",
    "\n",
    "# Only change code above this line\n",
    "import math_code_test_a as test\n",
    "test.step15(In[-1].split('# Only change code above this line')[0])"
   ]
  },
  {
   "cell_type": "markdown",
   "metadata": {},
   "source": [
    "#### Step 16 - Square Root Function"
   ]
  },
  {
   "cell_type": "markdown",
   "metadata": {},
   "source": [
    "You can find the square root of a number with the `sqrt()` function. To use this function, you need to import the math library. This library enables you to use many functions, as you will see in later steps. To get the square root of x, you would write `math.sqrt(x)`. Complete the code to print the square root of a number."
   ]
  },
  {
   "cell_type": "code",
   "execution_count": 41,
   "metadata": {},
   "outputs": [
    {
     "name": "stdout",
     "output_type": "stream",
     "text": [
      "5.0\n",
      " \n",
      "Code test passed\n",
      "Go on to the next step\n"
     ]
    }
   ],
   "source": [
    "import math\n",
    "\n",
    "n = float(input('Enter a number to find the square root: '))\n",
    "\n",
    "# Change the next line of code:\n",
    "print(math.sqrt(n))\n",
    "\n",
    "\n",
    "# Only change code above this line\n",
    "import math_code_test_a as test\n",
    "test.step16(In[-1].split('# Only change code above this line')[0])"
   ]
  },
  {
   "cell_type": "markdown",
   "metadata": {},
   "source": [
    "#### Step 17 - Floor Function"
   ]
  },
  {
   "cell_type": "markdown",
   "metadata": {},
   "source": [
    "The`floor()` function drops any decimals and sometimes is called the <i>integer part</i> of a number. Complete the code to print the floor of a number. Notice you `import math` and use `math.floor(n)`  \n",
    "\n",
    "Note:\n",
    "- ceiling is no matter how many what decimals are even if it is 0.1, it will go up to the next number. And thenn round the one we use\n",
    "- flooring is no matter how many what decimals are. It will stay the same\n",
    "- 0.5 and above rounds up and anything less than 0.4 and 0.4 will round down"
   ]
  },
  {
   "cell_type": "code",
   "execution_count": 43,
   "metadata": {},
   "outputs": [
    {
     "name": "stdout",
     "output_type": "stream",
     "text": [
      "6\n",
      " \n",
      "Your code should include print(math.floor(n))\n"
     ]
    }
   ],
   "source": [
    "import math\n",
    "\n",
    "n = float(input('Enter a number with decimal places: '))\n",
    "\n",
    "# Change the next line of code:\n",
    "# print(math.ceil(n))\n",
    "# print(math.floor(n))\n",
    "\n",
    "\n",
    "# Only change code above this line\n",
    "import math_code_test_a as test\n",
    "test.step17(In[-1].split('# Only change code above this line')[0])"
   ]
  },
  {
   "cell_type": "markdown",
   "metadata": {},
   "source": [
    "#### Step 18 - Finding Square Factors"
   ]
  },
  {
   "cell_type": "markdown",
   "metadata": {},
   "source": [
    "This step will combine a few things you have already done. Remember that a square number is an integer that is the result of multiplying another integer by itself. Just as you created a loop to find factors of an integer, here you will find the greatest factor that is a perfect square. \n",
    "\n",
    "For example, 2 is a factor of 16, but 2 is not a square number, while 4 is a factor and it is a square number, but it is not the greatest square factor. The greatest square factor of 16 is 16. The greatest square factor of 32 is 16. Complete `if` statement in the loop to find the greatest square factor of a number. "
   ]
  },
  {
   "cell_type": "code",
   "execution_count": 44,
   "metadata": {},
   "outputs": [
    {
     "name": "stdout",
     "output_type": "stream",
     "text": [
      "4\n",
      " \n",
      "Code test passed\n",
      "Go on to the next step\n"
     ]
    }
   ],
   "source": [
    "import math\n",
    "\n",
    "n = int(input('Enter an integer to find the greatest square factor: '))\n",
    "\n",
    "max_factor = 1\n",
    "upper_limit = math.floor(math.sqrt(n)) + 1\n",
    "\n",
    "# Change one line in this loop:\n",
    "for maybe_factor in range(1,upper_limit):\n",
    "    if n % (maybe_factor**2) == 0:\n",
    "        max_factor = maybe_factor\n",
    "\n",
    "# Keep this print statement:\n",
    "print(max_factor**2)\n",
    "\n",
    "\n",
    "# Only change code above this line\n",
    "import math_code_test_a as test\n",
    "test.step18(In[-1].split('# Only change code above this line')[0])"
   ]
  },
  {
   "cell_type": "markdown",
   "metadata": {},
   "source": [
    "#### Step 19 - Dividing out Factors"
   ]
  },
  {
   "cell_type": "markdown",
   "metadata": {},
   "source": [
    "Building upon your code from the previous step, this code will divide out the greatest square factor of a number. You don't need to change anything; just run the code below a few times, inputting different numbers each time."
   ]
  },
  {
   "cell_type": "code",
   "execution_count": 45,
   "metadata": {},
   "outputs": [
    {
     "name": "stdout",
     "output_type": "stream",
     "text": [
      " 12  =  4  *  3.0\n",
      "\n",
      " Test passed. You can go on to the next step.\n"
     ]
    }
   ],
   "source": [
    "import math\n",
    "\n",
    "n = int(input('Enter an integer to factor: '))\n",
    "upper_limit = math.floor(math.sqrt(n)) + 1\n",
    "square_root = 1\n",
    "max_factor = 1\n",
    "other_factor = 1\n",
    "\n",
    "# Notice what the loop is doing here\n",
    "for maybe_factor in range(1, upper_limit):\n",
    "    # Check for square factors\n",
    "    if n % (maybe_factor**2) == 0:\n",
    "        # Find the greatest square factor\n",
    "        max_factor = maybe_factor**2\n",
    "\n",
    "# Divide out the greatest square factor\n",
    "other_factor = n/max_factor\n",
    "\n",
    "# Display the results \n",
    "print(\"\", n, \" = \", max_factor, \" * \", other_factor)\n",
    "\n",
    "\n",
    "# Only change code above this line\n",
    "import math_code_test_a as test\n",
    "test.step19()"
   ]
  },
  {
   "cell_type": "markdown",
   "metadata": {},
   "source": [
    "#### Step 20 - Factoring Square Roots"
   ]
  },
  {
   "cell_type": "markdown",
   "metadata": {},
   "source": [
    "The last four steps prepared you for this. To factor a square root, you want to divide out any perfect square factors. For example:<br>\n",
    " $\\sqrt{12}$ = $\\sqrt{4 * 3}$ = 2 $\\sqrt{3}$ <br>\n",
    "Because 4 is a square number, the square root of 4 is now outside the radical.\n",
    "You will import `sympy` and `symbols` to use the radical ($\\sqrt{x}$) in the output. Use the code from the previous step (without changing much). Your goal is to ask for a number and output the factored square root. The radical formatting (using sympy and symbols) is already done for you."
   ]
  },
  {
   "cell_type": "code",
   "execution_count": 4,
   "metadata": {},
   "outputs": [
    {
     "name": "stdout",
     "output_type": "stream",
     "text": [
      "\n",
      " Test passed. This is this your factored square root:\n",
      "\n"
     ]
    },
    {
     "data": {
      "text/latex": [
       "$\\displaystyle 5 \\sqrt{2}$"
      ],
      "text/plain": [
       "5*sqrt(2)"
      ]
     },
     "execution_count": 4,
     "metadata": {},
     "output_type": "execute_result"
    }
   ],
   "source": [
    "import math\n",
    "import sympy\n",
    "from sympy import symbols\n",
    "\n",
    "n = int(input('Without the radical, enter a square root to factor: '))\n",
    "\n",
    "# Use these variables\n",
    "upper_limit = math.floor(math.sqrt(n)) + 1\n",
    "max_factor = 1\n",
    "other_factor = 1\n",
    "square_root = 1\n",
    "\n",
    "# Notice what the loop is doing here\n",
    "for maybe_factor in range(1, upper_limit):\n",
    "    if n % (maybe_factor**2) == 0:\n",
    "        max_factor = maybe_factor**2\n",
    "\n",
    "# Divide out the greatest square factor\n",
    "other_factor = n/max_factor\n",
    "\n",
    "# Output - keep this:\n",
    "square_root = int(math.sqrt(max_factor))\n",
    "other_factor = int(other_factor)\n",
    "output = square_root*sympy.sqrt(other_factor)\n",
    "\n",
    "\n",
    "# Only change code above this line\n",
    "import math_code_test_a as test\n",
    "test.step20()\n",
    "output"
   ]
  },
  {
   "cell_type": "markdown",
   "metadata": {},
   "source": [
    "#### Step 21 - Rounding"
   ]
  },
  {
   "cell_type": "markdown",
   "metadata": {},
   "source": [
    "If you only want a certain number of decimal places, use the `round()` function. This takes two arguments: the number to round and the number of decimal places, so `round(2.468, 2)` will return `2.47`. \n",
    "\n",
    "To round a large number instead of a decimal number, make the second argument negative, so `round(2345, -3)` will return `2000`. Finish the code below so that it prints the first number rounded to the nearest million (six zeros) and the second number rounded to 3 decimal places."
   ]
  },
  {
   "cell_type": "code",
   "execution_count": 12,
   "metadata": {},
   "outputs": [
    {
     "name": "stdout",
     "output_type": "stream",
     "text": [
      "15000000\n",
      "0.007\n",
      " \n",
      "Code test passed\n",
      "Go on to the next step\n"
     ]
    }
   ],
   "source": [
    "a = 14588132\n",
    "b = 0.006538298336\n",
    "\n",
    "# Write your code here\n",
    "print(round(a, -6))\n",
    "print(round(b, 3))\n",
    "\n",
    "\n",
    "\n",
    "# Only change code above this line\n",
    "import math_code_test_a as test\n",
    "test.step21(In[-1].split('# Only change code above this line')[0])"
   ]
  },
  {
   "cell_type": "markdown",
   "metadata": {},
   "source": [
    "#### Step 22  - Fractions, Decimals, Percents"
   ]
  },
  {
   "cell_type": "markdown",
   "metadata": {},
   "source": [
    "To convert a decimal number to a fraction, let $x$ = the number of decimal places. The basic fraction is the number (without the decimal point) over 10 $^{x}$. \n",
    "\n",
    "Example: 0.2 = $\\frac{2}{10}$ and 0.34 = $\\frac{34}{100}$ and 0.567 = $\\frac{567}{1000}$. In some cases, you may be able to reduce that fraction. Because \"percent\" means \"out of 100\" the percent refers to the first two decimal places. \n",
    "\n",
    "Complete the code to ask for a decimal input, then print the fraction and the percent. Hint: The `exponent` variable gives you the number of decimal places."
   ]
  },
  {
   "cell_type": "code",
   "execution_count": 14,
   "metadata": {},
   "outputs": [
    {
     "name": "stdout",
     "output_type": "stream",
     "text": [
      "The decimal is  0.125\n",
      "The fraction is  1250.0 / 10000\n",
      "The percent is  12.5  %\n",
      " \n",
      "Code test passed\n",
      "Go on to the next step\n"
     ]
    }
   ],
   "source": [
    "import math\n",
    "\n",
    "digits = input(\"Enter a decimal number to convert: \")\n",
    "exponent = int(len(digits))-1 # How many decimals places\n",
    "n = float(digits)\n",
    "\n",
    "# Change the values of these three variables\n",
    "numerator = n*10**exponent \n",
    "denominator = 10**exponent\n",
    "percent = n*100 #numerator / denominator\n",
    "\n",
    "# Output - keep this\n",
    "print(\"The decimal is \", n)\n",
    "print(\"The fraction is \", numerator, \"/\", denominator)\n",
    "print(\"The percent is \", percent, \" %\")\n",
    "\n",
    "\n",
    "# Only change code above this line\n",
    "import math_code_test_a as test\n",
    "test.step22(n,numerator,denominator,percent,exponent)"
   ]
  },
  {
   "cell_type": "markdown",
   "metadata": {},
   "source": [
    "#### Step 23 - Defining a Function"
   ]
  },
  {
   "cell_type": "markdown",
   "metadata": {},
   "source": [
    "To execute a block of code with one command, define a <i>function</i> with the `def` command and the name of the function. Notice everything in the function is indented 4 spaces. \n",
    "\n",
    "Run the following code to see an example. Then change the function name to `fun()` and also change the name where you call the function. Run the code again."
   ]
  },
  {
   "cell_type": "code",
   "execution_count": 16,
   "metadata": {},
   "outputs": [
    {
     "name": "stdout",
     "output_type": "stream",
     "text": [
      "This is outside the function\n",
      "This is in the function\n",
      "Back outside the function\n",
      " \n",
      "Code test passed\n",
      "Go on to the next step\n"
     ]
    }
   ],
   "source": [
    "# Define a function\n",
    "def fun():\n",
    "    print(\"This is in the function\")\n",
    "\n",
    "# Other code not in the function\n",
    "print(\"This is outside the function\")\n",
    "\n",
    "# Call the function\n",
    "fun()\n",
    "\n",
    "print(\"Back outside the function\")\n",
    "\n",
    "# Only change code above this line\n",
    "import math_code_test_a as test\n",
    "test.step23(In[-1].split('# Only change code above this line')[0])"
   ]
  },
  {
   "cell_type": "markdown",
   "metadata": {},
   "source": [
    "#### Step 24 - Function with Input"
   ]
  },
  {
   "cell_type": "markdown",
   "metadata": {},
   "source": [
    "A <i>function</i> can take input (called an \"argument\") and do something with that input. Use `def` to define the function, and include a variable in the parentheses to represent the argument. Indent everything that is a part of the function. \n",
    "\n",
    "When calling the function, pass the argument to it in the parentheses. Run the following code to see this example. Then change the `input()` variable name to `nombre` and also change that variable name in the argument when you call the function. Run the code again."
   ]
  },
  {
   "cell_type": "code",
   "execution_count": 18,
   "metadata": {},
   "outputs": [
    {
     "name": "stdout",
     "output_type": "stream",
     "text": [
      "Hello  Putri\n",
      " \n",
      "Code test passed\n",
      "You can go on to the next step\n"
     ]
    }
   ],
   "source": [
    "# Define a function\n",
    "def greeting(name):\n",
    "    print(\"Hello \", name)\n",
    "\n",
    "nombre = input(\"What is your name? \\n\")\n",
    "\n",
    "# Call the function\n",
    "greeting(nombre)\n",
    "\n",
    "# Only change code above this line\n",
    "import math_code_test_a as test\n",
    "test.step24(In[-1].split('# Only change code above this line')[0])"
   ]
  },
  {
   "cell_type": "markdown",
   "metadata": {},
   "source": [
    "#### Step 25 - Function with Two Inputs\n"
   ]
  },
  {
   "cell_type": "markdown",
   "metadata": {},
   "source": [
    "To pass more than one argument to a function, separate the arguments with commas. Run the code to see the example, then add a third argument to the function and run it again. \n",
    "\n",
    "The `third` variable is already in the code. Change three lines of code to use that variable: (1) the argument when you call the function, (2) the argument when you define the function, (3) the `sum` line within in the function definition."
   ]
  },
  {
   "cell_type": "code",
   "execution_count": 19,
   "metadata": {},
   "outputs": [
    {
     "name": "stdout",
     "output_type": "stream",
     "text": [
      "The sum is  14.0\n",
      " \n",
      "Code test passed\n",
      "You can go on to the next step\n"
     ]
    }
   ],
   "source": [
    "# Define function\n",
    "def add(a,b, c):\n",
    "  # Use c for the third variable\n",
    "  sum = a+b+c\n",
    "  print(\"The sum is \", sum)\n",
    "\n",
    "first = float(input(\"Enter a number: \\n\"))\n",
    "second= float(input(\"Enter another number: \\n\"))\n",
    "third = 3\n",
    "\n",
    "# Call the function\n",
    "add(first,second,third)\n",
    "\n",
    "# Only change code above this line\n",
    "import math_code_test_a as test\n",
    "test.step25(In[-1].split('# Only change code above this line')[0])"
   ]
  },
  {
   "cell_type": "markdown",
   "metadata": {},
   "source": [
    "#### Step 26 -  Function with Return Value"
   ]
  },
  {
   "cell_type": "markdown",
   "metadata": {},
   "source": [
    "Instead of including a `print()` statement within the function, the function can `return` a value right where you call it. To make the function return a value, use the `return` statement. \n",
    "\n",
    "Run the following code to see an example, then change the `return` statement to multiply by 3 instead of 2 and run the code again."
   ]
  },
  {
   "cell_type": "code",
   "execution_count": 20,
   "metadata": {},
   "outputs": [
    {
     "name": "stdout",
     "output_type": "stream",
     "text": [
      "Your number multiplied =  32.0\n",
      " \n",
      "Now change the return statement in the function\n"
     ]
    }
   ],
   "source": [
    "# define the function\n",
    "def multiplied(number):\n",
    "    return number*2\n",
    "\n",
    "a = float(input(\"Enter a number: \\n\"))\n",
    "print(\"Your number multiplied = \", multiplied(a))\n",
    "\n",
    "\n",
    "# Only change code above this line\n",
    "import math_code_test_a as test\n",
    "test.step26(In[-1].split('# Only change code above this line')[0])"
   ]
  },
  {
   "cell_type": "markdown",
   "metadata": {},
   "source": [
    "#### Step 27 - Solving for x"
   ]
  },
  {
   "cell_type": "markdown",
   "metadata": {},
   "source": [
    "In Algebra, `X` often refers to the unknown number in an equation. To find the value of `x` we use algebra rules to get to `x = ` [some number]. SymPy is a Python library to work with symbolic math. \n",
    "\n",
    "The following code works to solve an equation set equal to zero. Run the code and remember to use Python syntax to enter an equation (with \"x\" as the variable) and see the solution."
   ]
  },
  {
   "cell_type": "code",
   "execution_count": 23,
   "metadata": {},
   "outputs": [
    {
     "name": "stdout",
     "output_type": "stream",
     "text": [
      "x =  4\n",
      "If you didn't get a syntax error, you are ready for the project\n"
     ]
    }
   ],
   "source": [
    "import sympy\n",
    "from sympy import symbols\n",
    "from sympy.solvers import solve\n",
    "\n",
    "x = symbols('x')\n",
    "\n",
    "eq = input('Enter an equation to solve for x: 0 = ')\n",
    "# print(len(solve(eq,x)))\n",
    "print(\"x = \", solve(eq,x)[0])\n",
    "\n",
    "\n",
    "# Only change code above this line\n",
    "import math_code_test_a as test\n",
    "test.step27(In[-1].split('# Only change code above this line')[0])\n"
   ]
  },
  {
   "cell_type": "markdown",
   "metadata": {},
   "source": [
    "#### Step 28 - Make your own Functions"
   ]
  },
  {
   "cell_type": "markdown",
   "metadata": {},
   "source": [
    "Building upon what you did in previous steps, define a different function for each of the following:<br>\n",
    "<ul>\n",
    "  <li>Add, subtract, multiply, divide</li>\n",
    "  <li>Detect prime numbers</li>\n",
    "  <li>Generate prime factors of a number</li>\n",
    "  <li>Simplify square roots</li>\n",
    "  <li>Solve for a variable</li>\n",
    "</ul>\n",
    "Each function should prompt the user with a question, take input, and output the answer."
   ]
  },
  {
   "cell_type": "code",
   "execution_count": 31,
   "metadata": {},
   "outputs": [
    {
     "data": {
      "text/latex": [
       "$\\displaystyle 2 \\sqrt{5}$"
      ],
      "text/plain": [
       "2*sqrt(5)"
      ]
     },
     "execution_count": 31,
     "metadata": {},
     "output_type": "execute_result"
    }
   ],
   "source": [
    "# Write your code here\n",
    "def factor_sqrt(n):\n",
    "    import math\n",
    "    import sympy\n",
    "    from sympy import symbols\n",
    "\n",
    "    \n",
    "    # Use these variables\n",
    "    upper_limit = math.floor(math.sqrt(n)) + 1\n",
    "    max_factor = 1\n",
    "    other_factor = 1\n",
    "    square_root = 1\n",
    "\n",
    "    # Notice what the loop is doing here\n",
    "    for maybe_factor in range(1, upper_limit):\n",
    "        if n % (maybe_factor**2) == 0:\n",
    "            max_factor = maybe_factor**2\n",
    "\n",
    "    # Divide out the greatest square factor\n",
    "    other_factor = n/max_factor\n",
    "\n",
    "    # Output - keep this:\n",
    "    square_root = int(math.sqrt(max_factor))\n",
    "    other_factor = int(other_factor)\n",
    "    output = square_root*sympy.sqrt(other_factor)\n",
    "    return output\n",
    "\n",
    "factor_sqrt(20)\n"
   ]
  },
  {
   "cell_type": "markdown",
   "metadata": {},
   "source": [
    "#### Step 29 - Create a menu"
   ]
  },
  {
   "cell_type": "markdown",
   "metadata": {},
   "source": [
    "Use print statements to create a menu that displays a numbered list of options. Then prompt for user input to choose an option. Use an `if` statement to print a different message for each option in the menu."
   ]
  },
  {
   "cell_type": "code",
   "execution_count": 36,
   "metadata": {},
   "outputs": [
    {
     "name": "stdout",
     "output_type": "stream",
     "text": [
      "Calculator Menu: \n",
      "1. Add\n",
      "2. Subtract\n",
      "3. Multiply\n",
      "4. Divide\n",
      "5. Quit\n",
      "Result: 1.0\n"
     ]
    }
   ],
   "source": [
    "# Write your code here\n",
    "\n",
    "print(\"Calculator Menu: \")\n",
    "print(\"1. Add\")\n",
    "print(\"2. Subtract\")\n",
    "print(\"3. Multiply\")\n",
    "print(\"4. Divide\")\n",
    "print(\"5. Quit\")\n",
    "\n",
    "# Prompt the user to choose an option\n",
    "option = input(\"Choose an option (1-5): \")\n",
    "\n",
    "# Perform operations based on user input\n",
    "if option == '1':\n",
    "    # Addition\n",
    "    num1 = float(input(\"Enter first number: \"))\n",
    "    num2 = float(input(\"Enter second number: \"))\n",
    "    result = num1 + num2\n",
    "    print(\"Result: \", result)\n",
    "elif option == '2':\n",
    "    #Subtraction\n",
    "    num1 = float(input(\"Enter first number: \"))\n",
    "    num2 = float(input(\"Enter second number: \"))\n",
    "    result = num1 - num2\n",
    "    print(\"Result: \", result)\n",
    "elif option == '3':\n",
    "    # Multiplication\n",
    "    num1 = float(input(\"Enter first number: \"))\n",
    "    num2 = float(input(\"Enter second number: \"))\n",
    "    result = num1 * num2\n",
    "    print(\"Result: \", result)\n",
    "elif option == '4':\n",
    "    # Division\n",
    "    num1 = float(input(\"Enter first number: \"))\n",
    "    num2 = float(input(\"Enter second number: \"))\n",
    "    if num2 != 0:\n",
    "        result = num1 / num2\n",
    "        print(\"Result:\", result)\n",
    "    else:\n",
    "        print(\"Error: Cannot divide by zero\")\n",
    "elif option == '5':\n",
    "    # Quit\n",
    "    print(\"Exiting the calculator. Goodbye!\")\n",
    "else:\n",
    "    # Invalid option\n",
    "    print(\"Invalid option. Please choose a number from 1 to 5.\")\n",
    "\n",
    "\n",
    "# This step does not have test"
   ]
  },
  {
   "cell_type": "markdown",
   "metadata": {},
   "source": [
    "#### Step 30 - Certification Project 1"
   ]
  },
  {
   "cell_type": "markdown",
   "metadata": {},
   "source": [
    "Now put it all together to build a multi-function calculator. Use the menu and the functions you created in the previous steps. \n",
    "\n",
    "Define one more function of your own. Create the menu so that the user input will run a function."
   ]
  },
  {
   "cell_type": "code",
   "execution_count": 2,
   "metadata": {},
   "outputs": [
    {
     "name": "stdout",
     "output_type": "stream",
     "text": [
      "Calculator Menu: \n",
      "1. Add\n",
      "2. Subtract\n",
      "3. Multiply\n",
      "4. Divide\n",
      "5. Quit\n",
      "Result: 1.25\n",
      "Calculator Menu: \n",
      "1. Add\n",
      "2. Subtract\n",
      "3. Multiply\n",
      "4. Divide\n",
      "5. Quit\n",
      "Exiting the calculator. Goodbye!\n"
     ]
    }
   ],
   "source": [
    "# Write your code here\n",
    "\n",
    "# Write your code here\n",
    "def display_menu():\n",
    "    print(\"Calculator Menu: \")\n",
    "    print(\"1. Add\")\n",
    "    print(\"2. Subtract\")\n",
    "    print(\"3. Multiply\")\n",
    "    print(\"4. Divide\")\n",
    "    print(\"5. Quit\")\n",
    "\n",
    "    # Prompt the user to choose an option\n",
    "    option = input(\"Choose an option (1-5): \")\n",
    "    return option\n",
    "\n",
    "    # Main function to run the calculator\n",
    "def main():\n",
    "    while True:\n",
    "        # Display the menu\n",
    "        option = display_menu()\n",
    "            \n",
    "        # Perform operations based on user input\n",
    "        if option == '1':\n",
    "            # Addition\n",
    "            num1 = float(input(\"Enter first number: \"))\n",
    "            num2 = float(input(\"Enter second number: \"))\n",
    "            result = num1 + num2\n",
    "            print(\"Result: \", result)\n",
    "        elif option == '2':\n",
    "            #Subtraction\n",
    "            num1 = float(input(\"Enter first number: \"))\n",
    "            num2 = float(input(\"Enter second number: \"))\n",
    "            result = num1 - num2\n",
    "            print(\"Result: \", result)\n",
    "        elif option == '3':\n",
    "            # Multiplication\n",
    "            num1 = float(input(\"Enter first number: \"))\n",
    "            num2 = float(input(\"Enter second number: \"))\n",
    "            result = num1 * num2\n",
    "            print(\"Result: \", result)\n",
    "        elif option == '4':\n",
    "            # Division\n",
    "            num1 = float(input(\"Enter first number: \"))\n",
    "            num2 = float(input(\"Enter second number: \"))\n",
    "            if num2 != 0:\n",
    "                result = num1 / num2\n",
    "                print(\"Result:\", result)\n",
    "            else:\n",
    "                print(\"Error: Cannot divide by zero\")\n",
    "        elif option == '5':\n",
    "            # Quit\n",
    "            print(\"Exiting the calculator. Goodbye!\")\n",
    "            break # Add break statement to exit the loop\n",
    "        else:\n",
    "            # Invalid option\n",
    "            print(\"Invalid option. Please choose a number from 1 to 5.\")\n",
    "\n",
    "if __name__==\"__main__\":\n",
    "    main()\n",
    "        # This step does not have test"
   ]
  }
 ],
 "metadata": {
  "kernelspec": {
   "display_name": "Python 3",
   "language": "python",
   "name": "python3"
  },
  "language_info": {
   "name": "python",
   "version": "3.12.1"
  }
 },
 "nbformat": 4,
 "nbformat_minor": 2
}
