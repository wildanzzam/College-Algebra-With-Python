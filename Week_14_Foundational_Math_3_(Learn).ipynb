{
  "cells": [
    {
      "cell_type": "markdown",
      "metadata": {
        "id": "EsfO5Q92tL-6"
      },
      "source": [
        "[![freeCodeCamp](https://cdn.freecodecamp.org/testable-projects-fcc/images/fcc_secondary.svg)](https://freecodecamp.org/)"
      ]
    },
    {
      "cell_type": "markdown",
      "metadata": {
        "id": "57mlyO58UfN0"
      },
      "source": [
        "**Learn Foundational Math 3 by Building a Financial App**<br>\n",
        "Each of these steps will lead you toward the Certification Project. Once you complete a step, click to expand the next step."
      ]
    },
    {
      "cell_type": "markdown",
      "metadata": {
        "id": "szp5flp1fA8-"
      },
      "source": [
        "# &darr; **Do this first** &darr;\n",
        "Copy this notebook to your own account by clicking the `File` button at the top, and then click `Save a copy in Drive`. You will need to be logged in to Google. The file will be in a folder called \"Colab Notebooks\" in your Google Drive."
      ]
    },
    {
      "cell_type": "markdown",
      "metadata": {
        "id": "KDloBuvnHQTS"
      },
      "source": [
        "# Step 0 - Acquire the Testing Library"
      ]
    },
    {
      "cell_type": "markdown",
      "metadata": {
        "id": "JiW6TlNezZKS"
      },
      "source": [
        "Please run this code to get the library file from FreeCodeCamp. Each step will use this library to test your code. You do not need to edit anything; just run this code cell and wait a few seconds until it tells you to go on to the next step."
      ]
    },
    {
      "cell_type": "code",
      "execution_count": 1,
      "metadata": {
        "id": "eTlHceacGa1C"
      },
      "outputs": [
        {
          "name": "stdout",
          "output_type": "stream",
          "text": [
            "Defaulting to user installation because normal site-packages is not writeable\n",
            "Requirement already satisfied: requests in c:\\users\\60115\\appdata\\roaming\\python\\python312\\site-packages (2.32.3)\n",
            "Requirement already satisfied: charset-normalizer<4,>=2 in c:\\users\\60115\\appdata\\roaming\\python\\python312\\site-packages (from requests) (3.3.2)\n",
            "Requirement already satisfied: idna<4,>=2.5 in c:\\users\\60115\\appdata\\roaming\\python\\python312\\site-packages (from requests) (3.6)\n",
            "Requirement already satisfied: urllib3<3,>=1.21.1 in c:\\users\\60115\\appdata\\roaming\\python\\python312\\site-packages (from requests) (1.26.18)\n",
            "Requirement already satisfied: certifi>=2017.4.17 in c:\\users\\60115\\appdata\\roaming\\python\\python312\\site-packages (from requests) (2024.2.2)\n"
          ]
        },
        {
          "name": "stderr",
          "output_type": "stream",
          "text": [
            "\n",
            "[notice] A new release of pip is available: 24.0 -> 24.1\n",
            "[notice] To update, run: python.exe -m pip install --upgrade pip\n"
          ]
        },
        {
          "name": "stdout",
          "output_type": "stream",
          "text": [
            "Code test passed\n",
            "Go on to the next step\n"
          ]
        },
        {
          "name": "stderr",
          "output_type": "stream",
          "text": [
            "c:\\Users\\60115\\Documents\\Study\\Math\\math_code_test_c.py:23: SyntaxWarning: invalid escape sequence '\\.'\n",
            "  if re.search(\"plt\\.fill_between\\(x\\,\\s*y1\\,\\s*0\\)\", code):\n",
            "c:\\Users\\60115\\Documents\\Study\\Math\\math_code_test_c.py:27: SyntaxWarning: invalid escape sequence '\\.'\n",
            "  elif re.search(\"plt\\.fill_between\\(x\\,\\s*y1\\,\\s*ymax\\)\", code):\n",
            "c:\\Users\\60115\\Documents\\Study\\Math\\math_code_test_c.py:47: SyntaxWarning: invalid escape sequence '\\.'\n",
            "  if re.search(\"plt\\.plot\\(x\\,\\s*y1\\)\", code):\n",
            "c:\\Users\\60115\\Documents\\Study\\Math\\math_code_test_c.py:51: SyntaxWarning: invalid escape sequence '\\.'\n",
            "  elif re.search(\"plt\\.plot\\(x\\,\\s*y1\\,\\s*\\'r\\-\\-\\'\\)\", code):\n",
            "c:\\Users\\60115\\Documents\\Study\\Math\\math_code_test_c.py:71: SyntaxWarning: invalid escape sequence '\\('\n",
            "  if re.search(\"\\(x\\,\\s*y1\\,\\s*10\\,\\s*facecolor\\s*\\=\\s*\\'red\\'\\)\", code):\n",
            "c:\\Users\\60115\\Documents\\Study\\Math\\math_code_test_c.py:75: SyntaxWarning: invalid escape sequence '\\.'\n",
            "  elif re.search(\"plt\\.fill\\_between\\(x\\,\\s*y1\\,\\s*10\\,\\s*facecolor\\=\\'blue\\'\\)\", code):\n",
            "c:\\Users\\60115\\Documents\\Study\\Math\\math_code_test_c.py:97: SyntaxWarning: invalid escape sequence '\\s'\n",
            "  if re.search(\"c\\s*\\=\\s*int\\(input\\(\\\"Enter coefficient C\\:\\s*\\\"\\)\\)\", code):\n",
            "c:\\Users\\60115\\Documents\\Study\\Math\\math_code_test_c.py:107: SyntaxWarning: invalid escape sequence '\\s'\n",
            "  if re.search(\"d\\s*\\=\\s*int\\(input\\(\\\"Enter coefficient D\\:\\s*\\\"\\)\\)\", code):\n",
            "c:\\Users\\60115\\Documents\\Study\\Math\\math_code_test_c.py:117: SyntaxWarning: invalid escape sequence '\\s'\n",
            "  if re.search(\"y\\s*\\=\\s*a\\*x\\*\\*3\\s*\\+\\s*b\\*x\\*\\*2\\s*\\+\\s*c\\*x\\s*\\+\\s*d\", code):\n",
            "c:\\Users\\60115\\Documents\\Study\\Math\\math_code_test_c.py:145: SyntaxWarning: invalid escape sequence '\\.'\n",
            "  if re.search(\"plt\\.plot\\(x\\,\\s*a\\*x\\*\\*2\\s*\\+\\s*b\\*x\\)\", code):\n",
            "c:\\Users\\60115\\Documents\\Study\\Math\\math_code_test_c.py:149: SyntaxWarning: invalid escape sequence '\\.'\n",
            "  elif re.search(\"plt\\.plot\\(x\\,\\s*a\\*x\\*\\*2\\s*\\+\\s*b\\*x\\s*\\+\\s*c\\)\", code):\n",
            "c:\\Users\\60115\\Documents\\Study\\Math\\math_code_test_c.py:155: SyntaxWarning: invalid escape sequence '\\('\n",
            "  if re.search(\"f\\(a\\,\\s*b\\,\\s*c\\)\", code):\n",
            "c:\\Users\\60115\\Documents\\Study\\Math\\math_code_test_c.py:161: SyntaxWarning: invalid escape sequence '\\s'\n",
            "  if re.search(\"c\\s*=\\s*\\(\\-9\\,\\s*9\\)\\)\", code):\n",
            "c:\\Users\\60115\\Documents\\Study\\Math\\math_code_test_c.py:185: SyntaxWarning: invalid escape sequence '\\s'\n",
            "  if re.search(\"a\\s*=\\s*\\(1\\,\\s*9\\)\\,\\s*b\\=\\(1\\,\\s*9\\)\\)\", code):\n",
            "c:\\Users\\60115\\Documents\\Study\\Math\\math_code_test_c.py:189: SyntaxWarning: invalid escape sequence '\\s'\n",
            "  elif re.search(\"a\\s*=\\s*\\(\\-9\\,\\s*\\-1\\)\\,\\s*b\\=\\(1\\,\\s*9\\)\\)\", code):\n",
            "c:\\Users\\60115\\Documents\\Study\\Math\\math_code_test_c.py:209: SyntaxWarning: invalid escape sequence '\\s'\n",
            "  if re.search(\"a\\s*\\=\\s*p\\*\\(1\\s*\\+\\s*r\\)\\*\\*t\", code):\n",
            "c:\\Users\\60115\\Documents\\Study\\Math\\math_code_test_c.py:229: SyntaxWarning: invalid escape sequence '\\s'\n",
            "  if re.search(\"a\\s*\\=\\s*p\\*\\(1\\s*\\-\\s*r\\)\\*\\*t\", code):\n",
            "c:\\Users\\60115\\Documents\\Study\\Math\\math_code_test_c.py:249: SyntaxWarning: invalid escape sequence '\\s'\n",
            "  if re.search(\"annuity\\s*\\=\\s*p\\*\\(1\\s*\\+\\s*\\(r\\/n\\)\\)\\*\\*\\(n\\*t\\)\", code):\n",
            "c:\\Users\\60115\\Documents\\Study\\Math\\math_code_test_c.py:273: SyntaxWarning: invalid escape sequence '\\_'\n",
            "  if re.search(\"a\\_annual\\s*\\=\\s*p\\*\\(1\\+r\\)\\*\\*t\", code):\n",
            "c:\\Users\\60115\\Documents\\Study\\Math\\math_code_test_c.py:285: SyntaxWarning: invalid escape sequence '\\_'\n",
            "  if re.search(\"a\\_n\\_times\\s*\\=\\s*p\\*\\(1\\+r\\/n\\)\\*\\*\\(n\\*t\\)\", code):\n",
            "c:\\Users\\60115\\Documents\\Study\\Math\\math_code_test_c.py:297: SyntaxWarning: invalid escape sequence '\\_'\n",
            "  if re.search(\"a\\_continuous\\s*\\=\\s*p\\*math\\.e\\*\\*\\(r\\*t\\)\", code):\n",
            "c:\\Users\\60115\\Documents\\Study\\Math\\math_code_test_c.py:393: SyntaxWarning: invalid escape sequence '\\s'\n",
            "  if re.search(\"exp\\s*\\=\\s*math\\.log\\(result\\,\\s*base\\)\", code):\n",
            "c:\\Users\\60115\\Documents\\Study\\Math\\math_code_test_c.py:419: SyntaxWarning: invalid escape sequence '\\s'\n",
            "  if re.search(\"exp\\s*\\=\\s*math\\.floor\\(math\\.log\\(n\\,\\s*10\\)\\)\", code):\n",
            "c:\\Users\\60115\\Documents\\Study\\Math\\math_code_test_c.py:423: SyntaxWarning: invalid escape sequence '\\s'\n",
            "  elif re.search(\"exp\\s*\\=\\s*math\\.log\\(n\\,\\s*10\\)\", code):\n",
            "c:\\Users\\60115\\Documents\\Study\\Math\\math_code_test_c.py:483: SyntaxWarning: invalid escape sequence '\\s'\n",
            "  if re.search(\"x2\\s*\\=\\s*math\\.floor\\(math\\.log\\(b\\,\\s*10\\)\\)\", code):\n",
            "c:\\Users\\60115\\Documents\\Study\\Math\\math_code_test_c.py:493: SyntaxWarning: invalid escape sequence '\\s'\n",
            "  if re.search(\"n2\\s*\\=\\s*round\\(b\\*10\\*\\*\\(\\-x2\\)\\,\\s*2\\)\", code):\n",
            "c:\\Users\\60115\\Documents\\Study\\Math\\math_code_test_c.py:521: SyntaxWarning: invalid escape sequence '\\s'\n",
            "  if re.search(\"x\\s*=\\s*math\\.floor\\(math\\.log\\(a\\,\\s*10\\)\\)\", code):\n",
            "c:\\Users\\60115\\Documents\\Study\\Math\\math_code_test_c.py:531: SyntaxWarning: invalid escape sequence '\\s'\n",
            "  if re.search(\"n\\s*=\\s*round\\(a\\*10\\*\\*\\(\\-x\\)\\,\\s*2\\)\", code):\n",
            "c:\\Users\\60115\\Documents\\Study\\Math\\math_code_test_c.py:563: SyntaxWarning: invalid escape sequence '\\.'\n",
            "  if re.search(\"plt\\.plot\\(x1\\,\\s*math\\.e\\*\\*x1\\,\\s*\\'b\\'\\)\", code):\n",
            "c:\\Users\\60115\\Documents\\Study\\Math\\math_code_test_c.py:567: SyntaxWarning: invalid escape sequence '\\.'\n",
            "  elif re.search(\"plt\\.plot\\(x2\\,\\s*np\\.log2\\(x2\\)\\,\\s*\\'g\\'\\)\", code):\n",
            "c:\\Users\\60115\\Documents\\Study\\Math\\math_code_test_c.py:579: SyntaxWarning: invalid escape sequence '\\.'\n",
            "  if re.search(\"plt\\.plot\\(x1\\,\\s*math\\.e\\*\\*x1\\,\\s*\\'b\\'\\)\", code):\n",
            "c:\\Users\\60115\\Documents\\Study\\Math\\math_code_test_c.py:583: SyntaxWarning: invalid escape sequence '\\.'\n",
            "  elif re.search(\"plt\\.plot\\(x1\\,\\s*2\\*\\*x1\\,\\s*\\'b\\'\\)\", code):\n",
            "c:\\Users\\60115\\Documents\\Study\\Math\\math_code_test_c.py:611: SyntaxWarning: invalid escape sequence '\\.'\n",
            "  if re.search(\"math\\.ceil\\(\\-math\\.log\\(decimal\\,\\s*10\\)\\)\", code):\n"
          ]
        }
      ],
      "source": [
        "# You may need to run this cell at the beginning of each new session\n",
        "\n",
        "!pip install requests\n",
        "\n",
        "# This will just take a few seconds\n",
        "\n",
        "import requests\n",
        "\n",
        "# Get the library from GitHub\n",
        "url = 'https://raw.githubusercontent.com/edatfreecodecamp/python-math/main/math-code-test-c.py'\n",
        "r = requests.get(url)\n",
        "\n",
        "# Save the library in a local working directory\n",
        "with open('math_code_test_c.py', 'w') as f:\n",
        "    f.write(r.text)\n",
        "\n",
        "# Now you can import the library\n",
        "import math_code_test_c as test\n",
        "\n",
        "# This will tell you if the code works\n",
        "test.step00()"
      ]
    },
    {
      "cell_type": "markdown",
      "metadata": {
        "id": "r1AM-AcqkbyF"
      },
      "source": [
        "# Step 1 - Graphing Inequalities"
      ]
    },
    {
      "cell_type": "markdown",
      "metadata": {
        "id": "K8rdL_OEkd-t"
      },
      "source": [
        "Learn Inequalities by Building Shaded Graphs. Notice how you set up the plot, like you learned in the last certification. Run the following code and you will see that the graph of y <u>></u> 2x is not quite right. Because y is greater, the shading should be above the line. The second two arguments in the `fill_between()` function give a range of y values to shade. Change just that part of the code to make the graph correct. (Hint: Think about the top of the graph.)\n"
      ]
    },
    {
      "cell_type": "code",
      "execution_count": 5,
      "metadata": {
        "id": "QAVgVP3xUd4J"
      },
      "outputs": [
        {
          "data": {
            "image/png": "[encoded data removed]",
            "text/plain": [
              "<Figure size 640x480 with 1 Axes>"
            ]
          },
          "metadata": {},
          "output_type": "display_data"
        },
        {
          "name": "stdout",
          "output_type": "stream",
          "text": [
            " \n",
            "Code test passed\n",
            "Go on to the next step\n"
          ]
        }
      ],
      "source": [
        "import matplotlib.pyplot as plt\n",
        "import numpy as np\n",
        "\n",
        "xmin = -10\n",
        "xmax = 10\n",
        "ymin = - 10\n",
        "ymax = 10\n",
        "points = 2*(xmax-xmin)\n",
        "x = np.linspace(xmin,xmax,points)\n",
        "\n",
        "fig, ax = plt.subplots()\n",
        "plt.axis([xmin,xmax,ymin,ymax]) # window size\n",
        "plt.plot([xmin,xmax],[0,0],'b') # blue x axis\n",
        "plt.plot([0,0],[ymin,ymax], 'b') # blue y axis\n",
        "\n",
        "plt.title(\"y > 2x\")\n",
        "\n",
        "y1 = 2*x\n",
        "plt.plot(x, y1)\n",
        "\n",
        "# Only change code below this line\n",
        "plt.fill_between(x, y1, ymax)\n",
        "\n",
        "plt.show()\n",
        "\n",
        "\n",
        "# Only change code above this line\n",
        "import math_code_test_c as test\n",
        "test.step01(In[-1].split('# Only change code above this line')[0])"
      ]
    },
    {
      "cell_type": "markdown",
      "metadata": {
        "id": "8wXbGsoYkm60"
      },
      "source": [
        "# Step 2 - Graphing inequalities - Part 2"
      ]
    },
    {
      "cell_type": "markdown",
      "metadata": {
        "id": "ehY1G02Dkv7r"
      },
      "source": [
        "The default graph will give you a solid line, but you can change the type of line and the color. As `'b'` is for a solid blue line, `'b--'` will be a dashed blue line and `'r--'` will display a dashed red line. Change the code to graph a dashed red line."
      ]
    },
    {
      "cell_type": "code",
      "execution_count": 7,
      "metadata": {
        "id": "3Pp_SmUikwgy"
      },
      "outputs": [
        {
          "data": {
            "image/png": "[encoded data removed]",
            "text/plain": [
              "<Figure size 640x480 with 1 Axes>"
            ]
          },
          "metadata": {},
          "output_type": "display_data"
        },
        {
          "name": "stdout",
          "output_type": "stream",
          "text": [
            " \n",
            "Code test passed\n",
            "Go on to the next step\n"
          ]
        }
      ],
      "source": [
        "import matplotlib.pyplot as plt\n",
        "import numpy as np\n",
        "\n",
        "xmin = -10\n",
        "xmax = 10\n",
        "ymin = - 10\n",
        "ymax = 10\n",
        "points = 2*(xmax-xmin)\n",
        "x = np.linspace(xmin,xmax,points)\n",
        "\n",
        "fig, ax = plt.subplots()\n",
        "plt.axis([xmin,xmax,ymin,ymax]) # window size\n",
        "plt.plot([xmin,xmax],[0,0],'b') # blue x axis\n",
        "plt.plot([0,0],[ymin,ymax], 'b') # blue y axis\n",
        "\n",
        "y1 = 2*x\n",
        "\n",
        "# Only change the next line:\n",
        "plt.plot(x, y1, 'r--') # Make dashed red line\n",
        "\n",
        "plt.fill_between(x, y1, ymin)\n",
        "plt.show()\n",
        "\n",
        "\n",
        "\n",
        "# Only change code above this line\n",
        "import math_code_test_c as test\n",
        "test.step02(In[-1].split('# Only change code above this line')[0])"
      ]
    },
    {
      "cell_type": "markdown",
      "metadata": {
        "id": "tBxuJtHck2Oo"
      },
      "source": [
        "# Step 3 - Making Art with Graphs"
      ]
    },
    {
      "cell_type": "markdown",
      "metadata": {
        "id": "PTr63nCrlTiM"
      },
      "source": [
        "Now plot four inequalities on the graph, in a pattern. Notice how you only need to define the x values once. In the `fill_between()` function notice a fourth argument, `facecolor=`, to indicate a different color for the shaded area. The color name in single quotes, like 'green' or 'yellow' or any common color name. Run the code to see the pattern, then reverse the order of the colors and run it again."
      ]
    },
    {
      "cell_type": "code",
      "execution_count": 11,
      "metadata": {
        "id": "Iyoq1h3vlV-a"
      },
      "outputs": [
        {
          "data": {
            "image/png": "[encoded data removed]",
            "text/plain": [
              "<Figure size 640x480 with 1 Axes>"
            ]
          },
          "metadata": {},
          "output_type": "display_data"
        },
        {
          "name": "stdout",
          "output_type": "stream",
          "text": [
            " \n",
            "Code test passed\n",
            "Go on to the next step\n"
          ]
        }
      ],
      "source": [
        "import matplotlib.pyplot as plt\n",
        "import numpy as np\n",
        "\n",
        "xmin = -10\n",
        "xmax = 10\n",
        "ymin = - 10\n",
        "ymax = 10\n",
        "points = 2*(xmax-xmin)\n",
        "x = np.linspace(xmin,xmax,points)\n",
        "\n",
        "fig, ax = plt.subplots()\n",
        "plt.axis([xmin,xmax,ymin,ymax]) # window size\n",
        "plt.plot([xmin,xmax],[0,0],'b') # blue x axis\n",
        "plt.plot([0,0],[ymin,ymax], 'b') # blue y axis\n",
        "\n",
        "# Only change the lines indicated below\n",
        "\n",
        "# line 1\n",
        "y1 = x+6\n",
        "plt.plot(x, y1)\n",
        "plt.fill_between(x, y1, 10, facecolor='blue') # change this line\n",
        "\n",
        "# line 2\n",
        "y2 = x+3\n",
        "plt.plot(x, y2)\n",
        "plt.fill_between(x, y2, y1, facecolor='green') # change this line\n",
        "\n",
        "# line 3\n",
        "y3 = x-1\n",
        "plt.plot(x, y3)\n",
        "plt.fill_between(x, y3, y2, facecolor='yellow') # change this line\n",
        "\n",
        "# line 4\n",
        "y4 = x-4\n",
        "plt.plot(x, y4)\n",
        "plt.fill_between(x, y4, y3, facecolor='red') # change this line\n",
        "\n",
        "plt.show()\n",
        "\n",
        "\n",
        "\n",
        "# Only change code above this line\n",
        "import math_code_test_c as test\n",
        "test.step03(In[-1].split('# Only change code above this line')[0])"
      ]
    },
    {
      "cell_type": "markdown",
      "metadata": {
        "id": "s3z_zaNWlet8"
      },
      "source": [
        "# Step 4 - Monomials"
      ]
    },
    {
      "cell_type": "markdown",
      "metadata": {
        "id": "BTOGQIpElet-"
      },
      "source": [
        "A <i>monomial</i> means \"one thing\" or one term. In a math equation, each term has a sign, a coefficient, and a variable to an exponent. Here are some examples: In the term -3x<sup>2</sup> you can see that the sign is negative, the coefficient is 3, the variable is x, the exponent is 2. \n",
        "\n",
        "The term x also has all of these parts: the sign is positive, the coefficient is 1, the variable is x, and the exponent is 1. In the term 5, the sign is positive, the coefficient is 5, the variable is still x, and the exponent is zero (notice that you don't need to write some of these parts, like x<sup>0</sup>). You can use `sympy` to display monomials nicely. Just run the code to see how this looks.  "
      ]
    },
    {
      "cell_type": "code",
      "execution_count": 12,
      "metadata": {
        "id": "oAPKmzeblet_"
      },
      "outputs": [
        {
          "data": {
            "text/latex": [
              "$\\displaystyle - 2 x^{3} = -16$"
            ],
            "text/plain": [
              "Eq(-2*x**3, -16)"
            ]
          },
          "metadata": {},
          "output_type": "display_data"
        },
        {
          "name": "stdout",
          "output_type": "stream",
          "text": [
            "Code test passed\n",
            "Go on to the next step\n"
          ]
        }
      ],
      "source": [
        "from sympy import symbols, Eq\n",
        "\n",
        "x = symbols('x')\n",
        "eq1 = Eq(-2*x**3 , -16)\n",
        "display(eq1)\n",
        "\n",
        "\n",
        "# Just run this code\n",
        "import math_code_test_c as test\n",
        "test.step00()"
      ]
    },
    {
      "cell_type": "markdown",
      "metadata": {
        "id": "lnP9BOpPlhdK"
      },
      "source": [
        "# Step 5 - Polynomials"
      ]
    },
    {
      "cell_type": "markdown",
      "metadata": {
        "id": "ABF6PI7TlhdL"
      },
      "source": [
        "A \"monomial\" is one thing. A \"binomial\" is two things. A \"trinomial\" is three things. A \"polynomial\" is many things. In standard form, `x` is the variable; you put your terms in order from highest exponent to lowest; refer to the coefficients with letters in alphabetical order; and set all of this equal to `y` (because it is a function that you can graph). \n",
        "\n",
        "Example: y = ax<sup>4</sup> + bx<sup>3</sup> + cx<sup>2</sup> + dx + e <br>\n",
        "\n",
        "Write code to prompt for integer input and display a polynomial. Remember to use the `**` for exponents. Parts of this are already done for you."
      ]
    },
    {
      "cell_type": "code",
      "execution_count": 19,
      "metadata": {
        "id": "USVAJRualhdL"
      },
      "outputs": [
        {
          "name": "stdout",
          "output_type": "stream",
          "text": [
            "Here is your equation:\n"
          ]
        },
        {
          "data": {
            "text/latex": [
              "$\\displaystyle y = 4 x^{3} + 5 x^{2} + 6 x + 7$"
            ],
            "text/plain": [
              "<IPython.core.display.Math object>"
            ]
          },
          "metadata": {},
          "output_type": "display_data"
        },
        {
          "name": "stdout",
          "output_type": "stream",
          "text": [
            " \n",
            "Code test passed\n",
            "Go on to the next step\n"
          ]
        }
      ],
      "source": [
        "from IPython.display import display, Math\n",
        "from sympy import *\n",
        "\n",
        "x,y = symbols('x y')\n",
        "\n",
        "a = int(input(\"Enter coefficient A: \"))\n",
        "b = int(input(\"Enter coefficient B: \"))\n",
        "c = int(input(\"Enter coefficient C: \"))\n",
        "d = int(input(\"Enter coefficient D: \"))\n",
        "\n",
        "# continue this to prompt for variables c and d\n",
        "\n",
        "# change the next line to display the full polynomial\n",
        "y = a*x**3 + b*x**2 + c*x + d\n",
        "\n",
        "print(\"Here is your equation:\")\n",
        "display(Math(\"y = \" + latex(y)))\n",
        "\n",
        "\n",
        "# Only change code above this line\n",
        "import math_code_test_c as test\n",
        "test.step05(In[-1].split('# Only change code above this line')[0])"
      ]
    },
    {
      "cell_type": "markdown",
      "metadata": {
        "id": "yoavB8H_ljVn"
      },
      "source": [
        "# Step 6 - Interactive Polynomial Graph"
      ]
    },
    {
      "cell_type": "markdown",
      "metadata": {
        "id": "3yk-TKO6ljVo"
      },
      "source": [
        "For this polynomial, y = ax<sup>2</sup> + bx + c, you can move the sliders to adjust the coefficients and see how that affects the graph. Notice how the `f()` function takes two arguments and the `interactive()` function defines two sliders. Run this code and interact with it. Then add the third coefficient (\"c\") by changing three things: the `def` line so that the function takes three arguments, the `plt.plot` line so that it includes \"+ c\", and the `interactive` line to include a third slider."
      ]
    },
    {
      "cell_type": "code",
      "execution_count": 30,
      "metadata": {
        "id": "sOecWXLOljVo"
      },
      "outputs": [
        {
          "data": {
            "application/vnd.jupyter.widget-view+json": {
              "model_id": "70d01fe991f7437bb0937e2a60c992aa",
              "version_major": 2,
              "version_minor": 0
            },
            "text/plain": [
              "interactive(children=(IntSlider(value=0, description='a', max=9, min=-9), IntSlider(value=0, description='b', …"
            ]
          },
          "metadata": {},
          "output_type": "display_data"
        },
        {
          "name": "stdout",
          "output_type": "stream",
          "text": [
            " \n",
            "Code test passed\n",
            "Go on to the next step\n"
          ]
        }
      ],
      "source": [
        "%matplotlib inline\n",
        "from ipywidgets import interactive\n",
        "import matplotlib.pyplot as plt\n",
        "import numpy as np\n",
        "\n",
        "# Change the next line:\n",
        "def f(a, b, c):\n",
        "    plt.axis([-10,10,-10,10]) # window size\n",
        "    plt.plot([-10,10],[0,0],'k') # blue x axis\n",
        "    plt.plot([0,0],[-10,10], 'k') # blue y axis\n",
        "    x = np.linspace(-10, 10, 200)\n",
        "    plt.plot(x, a*x**2+b*x + c) # Change this line\n",
        "    plt.show()\n",
        "\n",
        "# Change the next line:\n",
        "interactive_plot = interactive(f, a=(-9, 9), b=(-9, 9), c=(-9,9))\n",
        "display(interactive_plot)\n",
        "\n",
        "\n",
        "# Only change code above this line\n",
        "import math_code_test_c as test\n",
        "test.step06(In[-1].split('# Only change code above this line')[0])"
      ]
    },
    {
      "cell_type": "markdown",
      "metadata": {
        "id": "MlRfYVIylkQf"
      },
      "source": [
        "# Step 7 - Exponential Functions"
      ]
    },
    {
      "cell_type": "markdown",
      "metadata": {
        "id": "H16dtXc0lkQg"
      },
      "source": [
        "The general formula for an `exponential function` is $y = a*b^{x}$ (where `a` and `b` are constants and `x` is the variable in the exponent). The shape of exponential graphs, especially when not drawn to scale, are very consistent, so the numerical values are more important to calculate. \n",
        "\n",
        "Things that grow exponentially include populations, investments, and other \"percent increase\" situations. Run this code and use the sliders to see the slight changes. Notice the scale. Then change the slider so that `a` has negative values from -9 to -1 and see how that changes the graph."
      ]
    },
    {
      "cell_type": "code",
      "execution_count": 28,
      "metadata": {
        "id": "8KIMFu7LlkQg"
      },
      "outputs": [
        {
          "data": {
            "application/vnd.jupyter.widget-view+json": {
              "model_id": "77147ffeaf6c44c1bb4ba67fb2c398de",
              "version_major": 2,
              "version_minor": 0
            },
            "text/plain": [
              "interactive(children=(IntSlider(value=-5, description='a', max=-1, min=-9), IntSlider(value=5, description='b'…"
            ]
          },
          "metadata": {},
          "output_type": "display_data"
        },
        {
          "name": "stdout",
          "output_type": "stream",
          "text": [
            " \n",
            "Code test passed\n",
            "Go on to the next step\n"
          ]
        }
      ],
      "source": [
        "%matplotlib inline\n",
        "from ipywidgets import interactive\n",
        "import matplotlib.pyplot as plt\n",
        "import numpy as np\n",
        "\n",
        "xmin = -10\n",
        "xmax = 10\n",
        "ymin = -100\n",
        "ymax = 100\n",
        "\n",
        "def f(a, b):\n",
        "    plt.axis([xmin,xmax,ymin,ymax]) # window size\n",
        "    plt.plot([xmin,xmax],[0,0],'k') # x axis\n",
        "    plt.plot([0,0],[ymin,ymax], 'k') # y axis\n",
        "    x = np.linspace(xmin, xmax, 1000)\n",
        "    plt.plot(x, a*b**x)\n",
        "    plt.show()\n",
        "\n",
        "# Only change the next line:\n",
        "interactive_plot = interactive(f, a=(-9, -1), b=(1, 9))\n",
        "display(interactive_plot)\n",
        "\n",
        "\n",
        "# Only change code above this line\n",
        "import math_code_test_c as test\n",
        "test.step07(In[-1].split('# Only change code above this line')[0])"
      ]
    },
    {
      "cell_type": "markdown",
      "metadata": {
        "id": "NGH1FcttllvS"
      },
      "source": [
        "# Step 8 - Percent Increase"
      ]
    },
    {
      "cell_type": "markdown",
      "metadata": {
        "id": "KLKYiioGllvT"
      },
      "source": [
        "One formula for calculating a percent increase is <b>A = P(1 + r)<sup>t</sup></b> where `A` would be the `y` value on a graph and `t` would be the `x` value. `A` is the <i>annuity</i>, which is the amount you have at the end. `P` is the <i>principle</i>, which is the amount you have at the beginning. `R` (usually not capitalized) is the <i>rate</i>, a percent converted to a decimal. The exponent `t` represents <i>time</i>, usually in years. The code already prompts for `P`, `r` and `t`, so use those variables to calculate the annuity value."
      ]
    },
    {
      "cell_type": "code",
      "execution_count": 37,
      "metadata": {
        "id": "Vkp6zmxIllvT"
      },
      "outputs": [
        {
          "name": "stdout",
          "output_type": "stream",
          "text": [
            "Starting amount =  1000.0\n",
            "Enter the percentage rate, converted to a decimal:  0.05\n",
            "How many years will this investment grow? 7.0\n",
            "The annuity is  1407.1004226562504\n",
            " \n",
            "Code test passed\n",
            "Go on to the next step\n"
          ]
        }
      ],
      "source": [
        "p = float(input(\"Starting amount = \"))\n",
        "r = float(input(\"Enter the percentage rate, converted to a decimal: \"))\n",
        "t = float(input(\"How many years will this investment grow? \"))\n",
        "\n",
        "# Change the next line to calculate the annuity\n",
        "a = p*(1+r)**t\n",
        "\n",
        "print(\"Starting amount = \", p)\n",
        "print(\"Enter the percentage rate, converted to a decimal: \", r)\n",
        "print(\"How many years will this investment grow?\", t)\n",
        "print(\"The annuity is \", a)\n",
        "\n",
        "\n",
        "# Only change code above this line\n",
        "import math_code_test_c as test\n",
        "test.step08(In[-1].split('# Only change code above this line')[0])"
      ]
    },
    {
      "cell_type": "markdown",
      "metadata": {
        "id": "Sx0kwIdalmmY"
      },
      "source": [
        "# Step 9 - Percent Decrease"
      ]
    },
    {
      "cell_type": "markdown",
      "metadata": {
        "id": "Wx7fXQDKlmmZ"
      },
      "source": [
        "The percent decrease formula is very similar, except you subtract the rate, so the formula is <b>A = P(1 - r)<sup>t</sup></b>. Some things that decrease by a percent include car values, decay of some elements, and sales discounts. Use the existing variables to calculate the final value (`a`)."
      ]
    },
    {
      "cell_type": "code",
      "execution_count": 31,
      "metadata": {
        "id": "zJmQoa6YlmmZ"
      },
      "outputs": [
        {
          "name": "stdout",
          "output_type": "stream",
          "text": [
            "The final amount is  598.7369392383787\n",
            " \n",
            "Code test passed\n",
            "Go on to the next step\n"
          ]
        }
      ],
      "source": [
        "p = float(input(\"Starting amount = \"))\n",
        "r = float(input(\"Enter the percentage rate, converted to a decimal: \"))\n",
        "t = float(input(\"How many years will this decrease continue? \"))\n",
        "\n",
        "# Change the next line to calculate the final amount\n",
        "a = p*(1-r)**t\n",
        "\n",
        "print(\"The final amount is \", a)\n",
        "\n",
        "# Only change code above this line\n",
        "import math_code_test_c as test\n",
        "test.step09(In[-1].split('# Only change code above this line')[0])"
      ]
    },
    {
      "cell_type": "markdown",
      "metadata": {
        "id": "S-DVSzwDvKvE"
      },
      "source": [
        "# Step 10 - Compound Interest"
      ]
    },
    {
      "cell_type": "markdown",
      "metadata": {
        "id": "qf181QFOvCgd"
      },
      "source": [
        "When you use percent increase formulas for money in the bank, it's called <i>compound interest</i>. The amount of money you earn beyond the original principle is the interest. When the bank calculates the interest and adds it to the principle, that process is called <i>compounding</i> and it can happen any number of times per year. \n",
        "\n",
        "The formula is <b> A = P(1 + $\\frac{r}{n}$)<sup>nt</sup></b> where <i>n</i> is the number of times the bank compounds the money per year. Notice that if n = 1 then this formula is the same as the formula from an earlier step. Write the code to calculate the annuity (hint: use extra parentheses)."
      ]
    },
    {
      "cell_type": "code",
      "execution_count": 36,
      "metadata": {
        "id": "O0FAXixVvGXh"
      },
      "outputs": [
        {
          "name": "stdout",
          "output_type": "stream",
          "text": [
            "Starting amount:  1000.0\n",
            "Percentage rate, converted to a decimal:  0.05\n",
            "Number of years this investment will grow:  7.0\n",
            "Number of times compounded per year:  52\n",
            "The annuity is  1418.8289362089747\n",
            " \n",
            "Code test passed\n",
            "Go on to the next step\n"
          ]
        }
      ],
      "source": [
        "p = float(input(\"Starting amount: \"))\n",
        "r = float(input(\"Percentage rate, converted to a decimal: \"))\n",
        "t = float(input(\"Number of years this investment will grow: \"))\n",
        "n = int(input(\"Number of times compounded per year: \"))\n",
        "\n",
        "# Change the next line to calculate the annuity\n",
        "annuity = p*(1 + (r/n))**(n*t)\n",
        "\n",
        "print(\"Starting amount: \", p)\n",
        "print(\"Percentage rate, converted to a decimal: \", r)\n",
        "print(\"Number of years this investment will grow: \", t)\n",
        "print(\"Number of times compounded per year: \", n)\n",
        "print(\"The annuity is \", annuity)\n",
        "\n",
        "\n",
        "# Only change code above this line\n",
        "import math_code_test_c as test\n",
        "test.step10(In[-1].split('# Only change code above this line')[0])"
      ]
    },
    {
      "cell_type": "markdown",
      "metadata": {
        "id": "H6LTAPYplxvi"
      },
      "source": [
        "# Step 11 - Continuous Growth"
      ]
    },
    {
      "cell_type": "markdown",
      "metadata": {
        "id": "5oRPxD6olxvi"
      },
      "source": [
        "In the first formula, A = P(1 + r)<sup>t</sup>, money is compounded annually.<br>\n",
        "\n",
        "In the second formula, A = P(1 + $\\frac{r}{n})^{nt}$, money is compounded `n` times per year.<br>\n",
        "\n",
        "As `n` gets to be a really big number, you get a different formula, A = Pe $^{rt}$, for continuous growth.<br>\n",
        "\n",
        "In this formula, `e` is a constant, about equal to 2.718281828. The following code already prompts for the four variables once. Use those variables to compare the annuity from the three formulas. Notice you need to `import math` to use `math.e` (the best approximation of e)."
      ]
    },
    {
      "cell_type": "code",
      "execution_count": 40,
      "metadata": {
        "id": "kf3Q0Yg7lxvk"
      },
      "outputs": [
        {
          "name": "stdout",
          "output_type": "stream",
          "text": [
            "Principle:  1000.0\n",
            "Rate:  0.06\n",
            "Time:  15\n",
            "N:  12\n",
            "Compounded annually, anuity =  2396.5581930996914\n",
            "Compounded  12 times per year, anuity =  2454.0935622471666\n",
            "Compounded continuously, anuity =  2459.6031111569496\n",
            " \n",
            "Code test passed\n",
            "Go on to the next step\n"
          ]
        }
      ],
      "source": [
        "import math\n",
        "\n",
        "p = float(input(\"Principle: \"))\n",
        "r = float(input(\"Rate: \"))\n",
        "t = int(input(\"Time: \"))\n",
        "n = int(input(\"N: \"))\n",
        "\n",
        "# Only change the following three formulas:\n",
        "a_annual = p*(1+r)**t\n",
        "a_n_times = p*(1+r/n)**(n*t)\n",
        "a_continuous = p*math.e**(r*t) # use math.e in this formula\n",
        "\n",
        "# Only change the code above this line\n",
        "print(\"Principle: \", p)\n",
        "print(\"Rate: \", r)\n",
        "print(\"Time: \", t)\n",
        "print(\"N: \", n)\n",
        "\n",
        "print(\"Compounded annually, anuity = \", a_annual)\n",
        "print(\"Compounded \", n, \"times per year, anuity = \", a_n_times)\n",
        "print(\"Compounded continuously, anuity = \", a_continuous)\n",
        "\n",
        "\n",
        "# Only change code above this line\n",
        "import math_code_test_c as test\n",
        "test.step11(In[-1].split('# Only change code above this line')[0])"
      ]
    },
    {
      "cell_type": "markdown",
      "metadata": {
        "id": "iaEBltZXln-Q"
      },
      "source": [
        "# Step 12 - Investments"
      ]
    },
    {
      "cell_type": "markdown",
      "metadata": {
        "id": "JTQ9uZw3UeGT"
      },
      "source": [
        "If you have an investment where you contribute money every month and the value also increases by a consistent percentage, you can create a loop to calculate the accumulated value. \n",
        "\n",
        "In each iteration, use the <i>simple interest</i> formula: interest = principle * rate * time (P * R * t). (Hint: for one month, t = $\\frac{1}{12}$ or you can just divide by 12.)"
      ]
    },
    {
      "cell_type": "code",
      "execution_count": 1,
      "metadata": {
        "id": "t7sRzH5Oln-R"
      },
      "outputs": [
        {
          "name": "stdout",
          "output_type": "stream",
          "text": [
            "Starting amount:  5000.0\n",
            "Annual percentage rate:  0.08\n",
            "Number of years:  35\n",
            "Monthly contribution:  400.0\n",
            "Annuity =  1005132.7633131231\n",
            " \n",
            "Code test passed\n",
            "Go on to the next step\n"
          ]
        }
      ],
      "source": [
        "p = float(input(\"Starting amount: \"))\n",
        "r = float(input(\"Annual percentage rate: \"))\n",
        "t = int(input(\"Number of years: \"))\n",
        "monthly = float(input(\"Monthly contribution: \"))\n",
        "\n",
        "# Hint: keep updating this annuity variable in the loop\n",
        "annuity = p\n",
        "\n",
        "# Each iteration of the loop represents one month\n",
        "for a in range(12*t):\n",
        "    annuity = annuity + monthly\n",
        "    # Change the next line to calculate the interest\n",
        "    interest = annuity * r/12\n",
        "    annuity = annuity + interest\n",
        "\n",
        "# Keep this line:\n",
        "\n",
        "print(\"Starting amount: \", p)\n",
        "print(\"Annual percentage rate: \", r)\n",
        "print(\"Number of years: \", t)\n",
        "print (\"Monthly contribution: \", monthly)\n",
        "print(\"Annuity = \", annuity)\n",
        "\n",
        "\n",
        "# Only change code above this line\n",
        "import math_code_test_c as test\n",
        "test.step12(p,r,t,monthly,annuity)"
      ]
    },
    {
      "cell_type": "markdown",
      "metadata": {
        "id": "l5GwlqRdlpEu"
      },
      "source": [
        "# Step 13 - Mortgage Payments"
      ]
    },
    {
      "cell_type": "markdown",
      "metadata": {
        "id": "50OH4hj8lpEv"
      },
      "source": [
        "When borrowing a large amount of money over a long period of time, the formula to calculate monthly payments gets complicated. \n",
        "\n",
        "Here it is:<br>\n",
        "monthly payment = P $\\frac{\\frac{r}{12}(1 + \\frac{r}{12})^{12t}}{(1 + \\frac{r}{12})^{12t} - 1}$ where, as usual, `P` is the principle, `r` is the annual interest rate (as a decimal), and  `t` is the time in years. \n",
        " \n",
        "Write the code to prompt for these variables and calculate the monthly payment. Hint: Use other variables and do this in steps."
      ]
    },
    {
      "cell_type": "code",
      "execution_count": 3,
      "metadata": {
        "id": "E5X8_WbnlpEv"
      },
      "outputs": [
        {
          "name": "stdout",
          "output_type": "stream",
          "text": [
            "Amount borrowed:  200000.0\n",
            "Annual percentage rate:  0.07\n",
            "Number of years:  30.0\n",
            "Monthly payment = $ 1330.6049903583646\n",
            " \n",
            "Code test passed\n",
            "Go on to the next step\n"
          ]
        }
      ],
      "source": [
        "p = float(input(\"Amount borrowed: \"))\n",
        "r = float(input(\"Annual percentage rate: \"))\n",
        "t = float(input(\"Number of years: \"))\n",
        "\n",
        "# Write your code here and change the pmt variable\n",
        "n = (r/12)*(1+r/12)**(12*t)\n",
        "d = (1+r/12)**(12*t)-1\n",
        "pmt = p*n/d\n",
        "\n",
        "print(\"Amount borrowed: \", p)\n",
        "print(\"Annual percentage rate: \", r)\n",
        "print(\"Number of years: \", t)\n",
        "print(\"Monthly payment = $\", pmt)\n",
        "\n",
        "\n",
        "# Only change code above this line\n",
        "import math_code_test_c as test\n",
        "test.step13(p,r,t,pmt)"
      ]
    },
    {
      "cell_type": "markdown",
      "metadata": {
        "id": "8vdTo36Pl0yv"
      },
      "source": [
        "# Step 14 - Exponents and Logarithms"
      ]
    },
    {
      "cell_type": "markdown",
      "metadata": {
        "id": "gyMju8CVl0yw"
      },
      "source": [
        "Exponential functions and logarithmic functions are inverses of each other. Here is an example: <b>2<sup>4</sup> = 16</b> and <b>log<sub>2</sub>16 = 4</b>. Both have the same information rearranged in different ways. \n",
        "\n",
        "If you had 2<sup>4</sup> = x you would be able to do that easily, but if you had 2<sup>x</sup> = 16 it would be more difficult. You could write that last equation as a logarithm: log<sub>2</sub>16 = x. In Python, you would write this as `math.log(16,2)`. \n",
        "\n",
        "In both cases, you would read it as \"the log, base 2, of 16\" and the answer would be an exponent. The logarithm is especially useful when the exponent is not a nice integer. Write code to prompt for the base and the result, then use logarithms to calculate the exponent."
      ]
    },
    {
      "cell_type": "code",
      "execution_count": 7,
      "metadata": {
        "id": "ehtA_ATbl0yw"
      },
      "outputs": [
        {
          "name": "stdout",
          "output_type": "stream",
          "text": [
            "base:  3.0\n",
            "result 81.0\n",
            "exponent =  4.0\n",
            " \n",
            "Code test passed\n",
            "Go on to the next step\n"
          ]
        }
      ],
      "source": [
        "import math\n",
        "\n",
        "base = float(input(\"base: \"))\n",
        "result = float(input(\"result: \"))\n",
        "\n",
        "# Just change the next line:\n",
        "exp = math.log(result,base)\n",
        "\n",
        "print(\"base: \", base)\n",
        "print(\"result\", result)\n",
        "print(\"exponent = \", exp)\n",
        "\n",
        "\n",
        "# Only change code above this line\n",
        "import math_code_test_c as test\n",
        "test.step14(In[-1].split('# Only change code above this line')[0])"
      ]
    },
    {
      "cell_type": "markdown",
      "metadata": {
        "id": "U_7bv7aG4UJe"
      },
      "source": [
        "# Step 15 - Natural Logs"
      ]
    },
    {
      "cell_type": "markdown",
      "metadata": {
        "id": "uKjifZw04UJe"
      },
      "source": [
        "If you know the rate, how long will it take for something to double?\n",
        "Start with the continuous growth formula:<br>\n",
        "\n",
        "A = Pe<sup>rt</sup><br>\n",
        "If annuity is two times the principle, divide both sides by P\n",
        "and get this:<br>\n",
        "\n",
        "2 = e<sup>rt</sup><br>\n",
        "Because of the base <i>e</i>, take the natural log of both sides and get this:<br>\n",
        "\n",
        "ln(2) = rt<br>\n",
        "Then divide by r to solve for t or divide by t to solve for r. In Python, use `math.log()` with one argument and no base to calculate natural log (which is a logarithm with base e). So the natural log of 2 is `math.log(2)`. Just run the code to see this example."
      ]
    },
    {
      "cell_type": "code",
      "execution_count": 9,
      "metadata": {
        "id": "dM3RxByK4UJe"
      },
      "outputs": [
        {
          "name": "stdout",
          "output_type": "stream",
          "text": [
            "Enter the annual rate as a decimal: \n",
            " 0.05\n",
            "The number of time or year will be 13.862943611198904\n",
            "Your money will double in  13.862943611198904  years\n",
            "Code test passed\n",
            "Go on to the next step\n"
          ]
        }
      ],
      "source": [
        "import math\n",
        "\n",
        "r = float(input(\"Enter the annual rate as a decimal: \\n\"))\n",
        "t = math.log(2)/r\n",
        "print(\"Enter the annual rate as a decimal: \\n\", r)\n",
        "print(\"The number of time or year will be\", t)\n",
        "print(\"Your money will double in \", t, \" years\")\n",
        "\n",
        "\n",
        "# Just run this code\n",
        "import math_code_test_c as test\n",
        "test.step00()"
      ]
    },
    {
      "cell_type": "markdown",
      "metadata": {
        "id": "B7DOz9nh4XAb"
      },
      "source": [
        "# Step 16 - Common Logs"
      ]
    },
    {
      "cell_type": "markdown",
      "metadata": {
        "id": "MD3dH5yF4XAb"
      },
      "source": [
        "The <i>common log</i> is base 10, because that is our number system. Run this code a few times to see how the exponents relate to moving the decimal point to get the resulting number. Notice the floor function. Then take out the floor function to see the exact logarithm."
      ]
    },
    {
      "cell_type": "code",
      "execution_count": 13,
      "metadata": {
        "id": "n390hG0GcEXI"
      },
      "outputs": [
        {
          "name": "stdout",
          "output_type": "stream",
          "text": [
            "exponent =  -3.301029995663981\n",
            " \n",
            "Code test passed\n",
            "Go on to the next step\n"
          ]
        }
      ],
      "source": [
        "import math\n",
        "\n",
        "n = input('Enter a number with several digits or several decimal places: ')\n",
        "n = float(n)\n",
        "\n",
        "\n",
        "# Round the code then change the next line:\n",
        "exp = math.log(n, 10)\n",
        "\n",
        "# This avoids a weird Python quirk:\n",
        "if n==1000:\n",
        "    exp = 3; # Sometimes when exponent is 3, Python behave a bit weird\n",
        "\n",
        "print(\"exponent = \", exp)\n",
        "\n",
        "\n",
        "# Only change code above this line\n",
        "import math_code_test_c as test\n",
        "test.step16(In[-1].split('# Only change code above this line')[0])"
      ]
    },
    {
      "cell_type": "markdown",
      "metadata": {
        "id": "cqvLtj7t4VMN"
      },
      "source": [
        "# Step 17 - Scientific Notation"
      ]
    },
    {
      "cell_type": "markdown",
      "metadata": {
        "id": "-Uh4YmRt4VMN"
      },
      "source": [
        "<i>Scientific Notation</i> is a way of writing very large or very small numbers without all of the zeros or decimal places. For example, 45,000,000 could be written as 4.5 x 10<sup>7</sup> in scientific notation and 0.00000045 could be written as 4.5 x 10<sup>-7</sup>. \n",
        "\n",
        "The notation requires base 10, so it will always use the structure <b>n $*$ 10<sup>x</sup></b> where n is one digit then the decimal point. Change the code below to print each number in scientific notation. Determine the value of each variable by counting (not writing code). You will automate this process in the next step."
      ]
    },
    {
      "cell_type": "code",
      "execution_count": 15,
      "metadata": {
        "id": "UyPF6dKz4VMO"
      },
      "outputs": [
        {
          "name": "stdout",
          "output_type": "stream",
          "text": [
            "156000000000  =  1.56 * 10^ 11\n",
            "4.13e-10  =  4.13 * 10^ -10\n",
            " \n",
            "Code test passed\n",
            "Go on to the next step\n"
          ]
        }
      ],
      "source": [
        "a = 156000000000\n",
        "b = 0.000000000413\n",
        "\n",
        "# Change the code below this line\n",
        "\n",
        "a1 = 1.56\n",
        "a2 = 11\n",
        "b1 = 4.13\n",
        "b2 = -10\n",
        "\n",
        "print(a, \" = \", a1, \"* 10^\", a2)\n",
        "\n",
        "print(b, \" = \", b1, \"* 10^\", b2)\n",
        "\n",
        "\n",
        "# Only change code above this line\n",
        "import math_code_test_c as test\n",
        "test.step17(b1,b2)"
      ]
    },
    {
      "cell_type": "markdown",
      "metadata": {
        "id": "GsLj1NhZl1ya"
      },
      "source": [
        "# Step 18 - Logs and Scientific Notation"
      ]
    },
    {
      "cell_type": "markdown",
      "metadata": {
        "id": "uhWbIGVml1yb"
      },
      "source": [
        "Writing code for scientific notation, you will make use of logarithms with base 10. Remember that scientific notation is in the form n $*$ 10<sup>x</sup> where `n` is one digit and then a decimal. \n",
        "\n",
        "To convert a number to scientific notation, take the log of the number and use the `floor()` function to get the expoenent (just as you did in a previous step). Divide the original number by 10 to that exponent and you get `n` (hint: dividing by 10<sup>x</sup> is the same as multiplying by 10<sup>-x</sup>). \n",
        "\n",
        "Rounding is usually necessary. Write the code to convert numbers to scientific notation."
      ]
    },
    {
      "cell_type": "code",
      "execution_count": 18,
      "metadata": {
        "id": "y8PXrFCYl1yb"
      },
      "outputs": [
        {
          "name": "stdout",
          "output_type": "stream",
          "text": [
            "a =  2.34 * 10^ -12\n",
            "b =  1.23 * 10^ 13\n",
            " \n",
            "Code test passed\n",
            "Go on to the next step\n"
          ]
        }
      ],
      "source": [
        "import math\n",
        "\n",
        "a = .00000000000234\n",
        "b = 12300000000000\n",
        "\n",
        "# Use these three lines as a model\n",
        "x1 = math.floor(math.log(a,10))\n",
        "n1 = round(a*10**(-x1),2)\n",
        "print(\"a = \", n1, \"* 10^\", x1)\n",
        "\n",
        "# Change the next two lines to match the model\n",
        "x2 = math.floor(math.log(b,10))\n",
        "n2 = round(b*10**(-x2),2)\n",
        "print(\"b = \", n2, \"* 10^\", x2)\n",
        "\n",
        "\n",
        "\n",
        "# Only change code above this line\n",
        "import math_code_test_c as test\n",
        "test.step18(In[-1].split('# Only change code above this line')[0])"
      ]
    },
    {
      "cell_type": "markdown",
      "metadata": {
        "id": "d7Lc9KfMYU8Y"
      },
      "source": [
        "# Step 19 - Scientific Notation Conversion"
      ]
    },
    {
      "cell_type": "markdown",
      "metadata": {
        "id": "21gdVKfeYc5R"
      },
      "source": [
        "Now ask for a number as input, and write the code to convert that number into scientific notation. You can re-use code you used in the previous step, using `n` and `x` as variables to print n * 10^x."
      ]
    },
    {
      "cell_type": "code",
      "execution_count": 23,
      "metadata": {
        "id": "VkOkpmrP4XAb"
      },
      "outputs": [
        {
          "name": "stdout",
          "output_type": "stream",
          "text": [
            "a  =  1.23 * 10^ 6\n",
            " \n",
            "Code test passed\n",
            "Go on to the next step\n"
          ]
        }
      ],
      "source": [
        "import math\n",
        "\n",
        "a = float(input('Enter a number to convert to scientific notation: '))\n",
        "\n",
        "# write your code here\n",
        "x = math.floor(math.log(a,10))\n",
        "n = round(a*10**(-x),2)\n",
        "print(\"a  = \", n, \"* 10^\",x)\n",
        "\n",
        "# Only change code above this line\n",
        "import math_code_test_c as test\n",
        "test.step19(In[-1].split('# Only change code above this line')[0])"
      ]
    },
    {
      "cell_type": "markdown",
      "metadata": {
        "id": "VkD30ljxlyw9"
      },
      "source": [
        "# Step 20 - Graphing Exponents and Logs"
      ]
    },
    {
      "cell_type": "markdown",
      "metadata": {
        "id": "A7YL0fIdlyw-"
      },
      "source": [
        "When not writing code, the <i>natural log</i> is written as \"ln\" and it means a logarithm with base e. Like any pair of inverse functions, the line y = e<sup>x</sup> and the line y = ln(x) are mirrored over the line y = x.  \n",
        "\n",
        "Because of the `np.linspace()` function in this code, `np.log()` works, but `math.log()` does not work here. Both log() functions in Python use e as the base by default. When using the `numpy` library, use `np.log10()` for base 10, `np.log2()` for base 2, etc. \n",
        "\n",
        "Because log functions can only have positive x values, the np.linspace() function will define a positive range for the log() function. Run this code, then change the blue line function to graph y = 2<sup>x</sup> and change the green line function to graph y = log<sub>2</sub>x and notice the similarities between the graphs."
      ]
    },
    {
      "cell_type": "code",
      "execution_count": 27,
      "metadata": {
        "id": "fJiDmoW1lyw_"
      },
      "outputs": [
        {
          "data": {
            "image/png": "[encoded data removed]",
            "text/plain": [
              "<Figure size 640x480 with 1 Axes>"
            ]
          },
          "metadata": {},
          "output_type": "display_data"
        },
        {
          "name": "stdout",
          "output_type": "stream",
          "text": [
            " \n",
            "Code test passed\n",
            "Go on to the next step\n"
          ]
        }
      ],
      "source": [
        "import matplotlib.pyplot as plt\n",
        "import numpy as np\n",
        "import math\n",
        "\n",
        "xmin = -10\n",
        "xmax = 10\n",
        "ymin = -10\n",
        "ymax = 10\n",
        "plt.axis([xmin,xmax,ymin,ymax]) # window size\n",
        "plt.plot([xmin,xmax],[0,0],'k') # x axis\n",
        "plt.plot([0,0],[ymin,ymax], 'k') # y axis\n",
        "\n",
        "# Same x values for two lines\n",
        "x1 = np.linspace(xmin, xmax, 1000)\n",
        "\n",
        "# Blue line for y = e^x\n",
        "plt.plot(x1, 2**x1, 'b')  # Change this line\n",
        "\n",
        "# Red line for y = x\n",
        "plt.plot(x1, x1, 'r')\n",
        "\n",
        "# Different x values for y = log(x) because x > 0\n",
        "x2 = np.linspace(.001, xmax, 500)\n",
        "\n",
        "# Green line for y = log(x)\n",
        "plt.plot(x2, np.log2(x2), 'g')  # Change this line\n",
        "\n",
        "plt.show()\n",
        "\n",
        "\n",
        "# Only change code above this line\n",
        "import math_code_test_c as test\n",
        "test.step20(In[-1].split('# Only change code above this line')[0])"
      ]
    },
    {
      "cell_type": "markdown",
      "metadata": {
        "id": "bJzxcKIfz8Qt"
      },
      "source": [
        "# Step 21 - Log Application - pH Scale"
      ]
    },
    {
      "cell_type": "markdown",
      "metadata": {
        "id": "pfF3voqSz8Q9"
      },
      "source": [
        "The pH scale, for measuring acids and bases, is a logarithmic scale. The negative log of the hydrogen concentration is the pH. Example: if the hydrogen concentration is .007 then that would be 7 * 10<sup>-3</sup> and therefore a pH of 3. Write the code to prompt for hydrogen concentration and then print the pH. Hint: the <i>ceiling</i> function (`math.ceil()`) works better than rounding here."
      ]
    },
    {
      "cell_type": "code",
      "execution_count": 29,
      "metadata": {
        "id": "tepkvSubz8Q9"
      },
      "outputs": [
        {
          "name": "stdout",
          "output_type": "stream",
          "text": [
            "pH =  5\n",
            " \n",
            "Code test passed\n"
          ]
        }
      ],
      "source": [
        "import math\n",
        "\n",
        "decimal = float(input(\"Enter the hydrogen concentration as a decimal number: \"))\n",
        "\n",
        "# Write your code here\n",
        "h = math.ceil(-math.log(decimal,10)) \n",
        "\n",
        "print(\"pH = \", h)\n",
        "\n",
        "# Only change code above this line\n",
        "import math_code_test_c as test\n",
        "test.step21(In[-1].split('# Only change code above this line')[0])"
      ]
    },
    {
      "cell_type": "markdown",
      "metadata": {
        "id": "8iWUAktvPLYp"
      },
      "source": [
        "# Step 22 - Functions for the Project"
      ]
    },
    {
      "cell_type": "markdown",
      "metadata": {
        "id": "a9gRwbr-PGPC"
      },
      "source": [
        "Define a function for calculating mortgage payments and a function for calculating investment balance. Use code you wrote in earlier steps. Each function should prompt for input and print the output."
      ]
    },
    {
      "cell_type": "markdown",
      "metadata": {},
      "source": [
        "First method"
      ]
    },
    {
      "cell_type": "code",
      "execution_count": 38,
      "metadata": {
        "id": "neFvvCOzO_WB"
      },
      "outputs": [
        {
          "name": "stdout",
          "output_type": "stream",
          "text": [
            "Amount borrowed:  1000.0\n",
            "Annual percentage rate:  0.05 -> 5.0 %\n",
            "Number of years:  10.0\n",
            "Monthly payment = $ 10.606551523907553\n",
            "\n",
            "\n",
            "Starting amount:  10000.0\n",
            "Annual percentage rate:  0.05\n",
            "Number of years:  10\n",
            "Monthly contribution:  500.0\n",
            "Annuity =  0.09 * 10^4\n",
            "\n",
            "\n"
          ]
        }
      ],
      "source": [
        "import math\n",
        "\n",
        "def to_sci_notation(number):\n",
        "    if number == 0:\n",
        "        return \"0\"\n",
        "    exponent = math.floor(math.log(number,10)) \n",
        "    coefficient = round(number*10**(-x),2)    \n",
        "    return f\"{coefficient} * 10^{exponent}\"\n",
        "\n",
        "# Write your code here\n",
        "\n",
        "# Mortgage Payment\n",
        "def mortgage_payment():\n",
        "    p = float(input(\"Amount borrowed: \"))\n",
        "    r = float(input(\"Annual percentage rate: \"))\n",
        "    t = float(input(\"Number of years: \"))\n",
        "    \n",
        "    # formula\n",
        "    numerator = (r/12)*(1+r/12)**(12*t)\n",
        "    denominator = (1+r/12)**(12*t)-1\n",
        "    pmt = p*numerator/denominator\n",
        "\n",
        "    print(\"Amount borrowed: \", p)\n",
        "    print(\"Annual percentage rate: \", r,\"->\",r * 100, \"%\")\n",
        "    print(\"Number of years: \", t)\n",
        "    print(\"Monthly payment = $\", pmt)\n",
        "    print(\"\\n\")\n",
        "\n",
        "# Investment Balance\n",
        "def investment_balance():\n",
        "    p = float(input(\"Starting amount: \"))\n",
        "    r = float(input(\"Annual percentage rate: \"))\n",
        "    t = int(input(\"Number of years: \"))\n",
        "    monthly = float(input(\"Monthly contribution: \"))\n",
        "\n",
        "    # Hint: keep updating this annuity variable in the loop\n",
        "    annuity = p\n",
        "\n",
        "    # Each iteration of the loop represents one month\n",
        "    for a in range(12*t):\n",
        "        annuity = annuity + monthly\n",
        "        # Change the next line to calculate the interest\n",
        "        interest = annuity * r/12\n",
        "        annuity = annuity + interest\n",
        "\n",
        "    # Keep this line:\n",
        "\n",
        "    print(\"Starting amount: \", p)\n",
        "    print(\"Annual percentage rate: \", r)\n",
        "    print(\"Number of years: \", t)\n",
        "    print (\"Monthly contribution: \", monthly)\n",
        "    print(\"Annuity = \", to_sci_notation(annuity))\n",
        "    print(\"\\n\")\n",
        "\n",
        "# Call the functions\n",
        "mortgage_payment()\n",
        "investment_balance()\n",
        "\n",
        "\n",
        "# This step does not have a test"
      ]
    },
    {
      "cell_type": "markdown",
      "metadata": {},
      "source": [
        "Second method to define"
      ]
    },
    {
      "cell_type": "code",
      "execution_count": null,
      "metadata": {},
      "outputs": [],
      "source": [
        "p = float(input(\"Amount borrowed: \"))\n",
        "r = float(input(\"Annual percentage rate: \"))\n",
        "t = float(input(\"Number of years: \"))\n",
        "\n",
        "def mortgage_payment_prt(p,r,t): # define p, r and t\n",
        "\n",
        "    # formula\n",
        "    n = (r/12)*(1+r/12)**(12*t)\n",
        "    d = (1+r/12)**(12*t)-1\n",
        "    pmt = p*n/d\n",
        "\n",
        "    print(\"Amount borrowed: \", p)\n",
        "    print(\"Annual percentage rate: \", r)\n",
        "    print(\"Number of years: \", t)\n",
        "    return pmt\n",
        "\n",
        "def to_sci_notation(a):\n",
        "    x = math.floor(math.log(a,10))\n",
        "    n = round(a*10**(-x),2)    \n",
        "    answer = n, \"* 10^\", x\n",
        "    return n"
      ]
    },
    {
      "cell_type": "markdown",
      "metadata": {
        "id": "rzaQj8dEOfzb"
      },
      "source": [
        "# Step 23 - More Functions"
      ]
    },
    {
      "cell_type": "markdown",
      "metadata": {
        "id": "C6OV8KzQOTS_"
      },
      "source": [
        "Create a function that produces an interactive polynomial graph (with sliders). Use code from an earlier step."
      ]
    },
    {
      "cell_type": "code",
      "execution_count": 31,
      "metadata": {
        "id": "6cGh0vE1OYyC"
      },
      "outputs": [
        {
          "data": {
            "application/vnd.jupyter.widget-view+json": {
              "model_id": "bf0b815506e94d6b8d8093d83ce4129c",
              "version_major": 2,
              "version_minor": 0
            },
            "text/plain": [
              "interactive(children=(IntSlider(value=0, description='a', max=9, min=-9), IntSlider(value=0, description='b', …"
            ]
          },
          "metadata": {},
          "output_type": "display_data"
        },
        {
          "name": "stdout",
          "output_type": "stream",
          "text": [
            " \n",
            "Code test passed\n",
            "Go on to the next step\n"
          ]
        }
      ],
      "source": [
        "# Write your code here\n",
        "%matplotlib inline\n",
        "from ipywidgets import interactive\n",
        "import matplotlib.pyplot as plt\n",
        "import numpy as np\n",
        "\n",
        "# Change the next line:\n",
        "def f(a, b, c):\n",
        "    plt.axis([-10,10,-10,10]) # window size\n",
        "    plt.plot([-10,10],[0,0],'k') # blue x axis\n",
        "    plt.plot([0,0],[-10,10], 'k') # blue y axis\n",
        "    x = np.linspace(-10, 10, 200)\n",
        "    plt.plot(x, a*x**2+b*x + c) # Change this line\n",
        "    plt.show()\n",
        "\n",
        "# Change the next line:\n",
        "interactive_plot = interactive(f, a=(-9, 9), b=(-9, 9), c=(-9,9))\n",
        "display(interactive_plot)\n",
        "\n",
        "\n",
        "# Only change code above this line\n",
        "import math_code_test_c as test\n",
        "test.step06(In[-1].split('# Only change code above this line')[0])\n",
        "\n",
        "# This step does not have a test"
      ]
    },
    {
      "cell_type": "markdown",
      "metadata": {
        "id": "UptjjiCOTSS2"
      },
      "source": [
        "# Step 24 - New Function"
      ]
    },
    {
      "cell_type": "markdown",
      "metadata": {
        "id": "XKXNbHzGTKAp"
      },
      "source": [
        "Create a function to print the time required for money to double, given the rate. Use the continuous growth formula from an earlier step."
      ]
    },
    {
      "cell_type": "code",
      "execution_count": null,
      "metadata": {
        "id": "kWs_IpxrTYyl"
      },
      "outputs": [],
      "source": [
        "# Write your code here\n",
        "import math\n",
        "\n",
        "p = float(input(\"Principle: \"))\n",
        "r = float(input(\"Rate: \"))\n",
        "t = int(input(\"Time: \"))\n",
        "n = int(input(\"N: \"))\n",
        "\n",
        "# Only change the following three formulas:\n",
        "a_annual = p*(1+r)**t\n",
        "a_n_times = p*(1+r/n)**(n*t)\n",
        "a_continuous = p*math.e**(r*t) # use math.e in this formula\n",
        "\n",
        "# Only change the code above this line\n",
        "print(\"Principle: \", p)\n",
        "print(\"Rate: \", r)\n",
        "print(\"Time: \", t)\n",
        "print(\"N: \", n)\n",
        "\n",
        "print(\"Compounded annually, anuity = \", a_annual)\n",
        "print(\"Compounded \", n, \"times per year, anuity = \", a_n_times)\n",
        "print(\"Compounded continuously, anuity = \", a_continuous)\n",
        "\n",
        "\n",
        "# Only change code above this line\n",
        "import math_code_test_c as test\n",
        "test.step11(In[-1].split('# Only change code above this line')[0])\n",
        "\n",
        "# This step does not have a test"
      ]
    },
    {
      "cell_type": "markdown",
      "metadata": {
        "id": "CRa5i8s3UCuL"
      },
      "source": [
        "# Step 25 - Certification Project 3"
      ]
    },
    {
      "cell_type": "markdown",
      "metadata": {
        "id": "nngVpvqeT4U7"
      },
      "source": [
        "Build a financial app that calculates all of the following:<br>\n",
        "<ul>\n",
        "<li>Mortgage payment - given principle, rate, time</li>\n",
        "<li>Retirement account balance at time of retirement</li>\n",
        "<li>Time required for money to double - given the rate</li>\n",
        "<li>Rate of growth - given starting value, time, and ending value</li>\n",
        "</ul>"
      ]
    },
    {
      "cell_type": "code",
      "execution_count": 54,
      "metadata": {
        "id": "fa2o--pDT-Sd"
      },
      "outputs": [
        {
          "name": "stdout",
          "output_type": "stream",
          "text": [
            "Welcome to Your Financial Assistant\n",
            "\n",
            "\n",
            "Please chooose service!\n",
            "\n",
            "\n",
            "1. Calculate Mortgage Payment\n",
            "2. Calculate Your Retirement Balance\n",
            "3. Calculate Your Continuous Growth Investment Time\n",
            "4. Calculate Your Rate of Growth\n",
            "5. Quit\n",
            "Starting amount:  40000.0\n",
            "Annual percentage rate:  0.05\n",
            "Number of years:  10\n",
            "Monthly contribution:  4000.0\n",
            "Annuity =  689597.5356810439\n",
            "Welcome to Your Financial Assistant\n",
            "\n",
            "\n",
            "Please chooose service!\n",
            "\n",
            "\n",
            "1. Calculate Mortgage Payment\n",
            "2. Calculate Your Retirement Balance\n",
            "3. Calculate Your Continuous Growth Investment Time\n",
            "4. Calculate Your Rate of Growth\n",
            "5. Quit\n",
            "\n",
            "Time Required for Money to Double Calculation:\n",
            "Annual percentage rate:  0.05 %\n",
            "Time required for money to double =  1386.6409058364088 years\n",
            "\n",
            "\n",
            "Welcome to Your Financial Assistant\n",
            "\n",
            "\n",
            "Please chooose service!\n",
            "\n",
            "\n",
            "1. Calculate Mortgage Payment\n",
            "2. Calculate Your Retirement Balance\n",
            "3. Calculate Your Continuous Growth Investment Time\n",
            "4. Calculate Your Rate of Growth\n",
            "5. Quit\n",
            "Goodbye!\n"
          ]
        }
      ],
      "source": [
        "# Write your code here\n",
        "\n",
        "def to_sci_notation(number):\n",
        "    if number == 0:\n",
        "        return \"0\"\n",
        "    exponent = math.floor(math.log10(abs(number))) if number != 0 else 0\n",
        "    coefficient = round(number / (10**exponent), 2)\n",
        "    return f\"{coefficient} * 10^{exponent}\"\n",
        "\n",
        "def display_menu():\n",
        "    print(\"Welcome to Your Financial Assistant\")\n",
        "    print(\"\\n\")\n",
        "    print(\"Please chooose service!\")\n",
        "    print(\"\\n\")\n",
        "    print(\"1. Calculate Mortgage Payment\")\n",
        "    print(\"2. Calculate Your Retirement Balance\")\n",
        "    print(\"3. Calculate Your Continuous Growth Investment Time\")\n",
        "    print(\"4. Calculate Your Rate of Growth\")\n",
        "    print(\"5. Quit\")\n",
        "\n",
        "    option = input(\"Choose Service: (1-5)\")\n",
        "    return option\n",
        "\n",
        "\n",
        "# Mortgage Payment\n",
        "def mortgage_payment():\n",
        "    p = float(input(\"Amount borrowed: \"))\n",
        "    r = float(input(\"Annual percentage rate: \"))\n",
        "    t = float(input(\"Number of years: \"))\n",
        "                \n",
        "    # formula\n",
        "    numerator = (r/12)*(1+r/12)**(12*t)\n",
        "    denominator = (1+r/12)**(12*t)-1\n",
        "    pmt = p*numerator/denominator\n",
        "\n",
        "    print(\"Amount borrowed: \", p)\n",
        "    print(\"Annual percentage rate: \", r,\"->\",r * 100, \"%\")\n",
        "    print(\"Number of years: \", t)\n",
        "    print(\"Monthly payment = $\", pmt)\n",
        "    print(\"\\n\")\n",
        "\n",
        "def retirement_balance():\n",
        "    # Investment Formula\n",
        "    p = float(input(\"Starting amount: \"))\n",
        "    r = float(input(\"Annual percentage rate: \"))\n",
        "    t = int(input(\"Number of years: \"))\n",
        "    monthly = float(input(\"Monthly contribution: \"))\n",
        "\n",
        "                \n",
        "    annuity = p\n",
        "\n",
        "    # Each iteration of the loop represents one month\n",
        "    for a in range(12*t):\n",
        "        annuity += monthly\n",
        "        # Change the next line to calculate the interest\n",
        "        interest = annuity * (r/12)\n",
        "        annuity += interest\n",
        "\n",
        "    print(\"Starting amount: \", p)\n",
        "    print(\"Annual percentage rate: \", r)\n",
        "    print(\"Number of years: \", t)\n",
        "    print (\"Monthly contribution: \", monthly)\n",
        "    print(\"Annuity = \", annuity)\n",
        "        \n",
        "def money_doubled():\n",
        "    # Formula for Money Double Given the Rate\n",
        "    r = float(input(\"Annual percentage rate (as a decimal): \")) / 100  # Convert percentage to decimal\n",
        "    t = math.log(2) / math.log(1 + r)\n",
        "    print(\"\\nTime Required for Money to Double Calculation:\")\n",
        "    print(\"Annual percentage rate: \", r * 100, \"%\")\n",
        "    print(\"Time required for money to double = \", t, \"years\")\n",
        "    print(\"\\n\")\n",
        "\n",
        "    # p = float(input(\"Starting amount: \"))\n",
        "    # r = float(input(\"Percentage rate, converted to a decimal: \"))\n",
        "    # t = float(input(\"Number of years this investment will grow: \"))\n",
        "    # n = int(input(\"Number of times compounded per year: \"))\n",
        "\n",
        "    # Change the next line to calculate the annuity\n",
        "    # annuity = p*(1 + (r/n))**(n*t)\n",
        "\n",
        "    # print(\"Starting amount: \", p)\n",
        "    # print(\"Percentage rate, converted to a decimal: \", r)\n",
        "    # print(\"Number of years this investment will grow: \", t)\n",
        "    # print(\"Number of times compounded per year: \", n)\n",
        "    # print(\"The annuity is \", annuity)\n",
        "\n",
        "\n",
        "def rate_of_growth():\n",
        "    # Formula for continuous growth\n",
        "    p = float(input(\"Starting value: \"))\n",
        "    ending_value = float(input(\"Ending value: \"))\n",
        "    t = int(input(\"Time: \"))\n",
        "    r = (ending_value/p)**(1/t)-1\n",
        "\n",
        "    # Only change the code above this line\n",
        "    print(\"Principle: \", p)\n",
        "    print(\"Ending Value: \", ending_value)\n",
        "    print(\"Time: \", t, \"years\")\n",
        "    print(\"Rate of Growth \", r * 100, \"%\")\n",
        "\n",
        "def main():\n",
        "    while True:\n",
        "        option = display_menu()\n",
        "        if option == \"1\":\n",
        "            mortgage_payment()\n",
        "        elif option == \"2\":\n",
        "            retirement_balance()\n",
        "        elif option == \"3\":\n",
        "            money_doubled()\n",
        "        elif option == \"4\":\n",
        "            rate_of_growth\n",
        "        elif option == \"5\":\n",
        "            print(\"Goodbye!\")\n",
        "            break\n",
        "        else:\n",
        "            print(\"Invalid option, please choose an option (1-5)\")\n",
        "\n",
        "# Call the main function\n",
        "main()\n"
      ]
    }
  ],
  "metadata": {
    "colab": {
      "collapsed_sections": [
        "szp5flp1fA8-",
        "KDloBuvnHQTS",
        "r1AM-AcqkbyF",
        "8wXbGsoYkm60",
        "tBxuJtHck2Oo",
        "s3z_zaNWlet8",
        "yoavB8H_ljVn",
        "MlRfYVIylkQf",
        "NGH1FcttllvS",
        "Sx0kwIdalmmY",
        "S-DVSzwDvKvE",
        "H6LTAPYplxvi",
        "iaEBltZXln-Q",
        "l5GwlqRdlpEu",
        "U_7bv7aG4UJe",
        "B7DOz9nh4XAb",
        "cqvLtj7t4VMN",
        "GsLj1NhZl1ya",
        "d7Lc9KfMYU8Y",
        "VkD30ljxlyw9",
        "bJzxcKIfz8Qt",
        "8iWUAktvPLYp",
        "rzaQj8dEOfzb",
        "UptjjiCOTSS2",
        "CRa5i8s3UCuL"
      ],
      "provenance": []
    },
    "kernelspec": {
      "display_name": "Python 3",
      "name": "python3"
    },
    "language_info": {
      "codemirror_mode": {
        "name": "ipython",
        "version": 3
      },
      "file_extension": ".py",
      "mimetype": "text/x-python",
      "name": "python",
      "nbconvert_exporter": "python",
      "pygments_lexer": "ipython3",
      "version": "3.12.1"
    }
  },
  "nbformat": 4,
  "nbformat_minor": 0
}
