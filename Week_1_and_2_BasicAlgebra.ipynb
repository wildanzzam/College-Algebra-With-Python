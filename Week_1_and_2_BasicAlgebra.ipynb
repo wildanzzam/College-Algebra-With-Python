{
 "cells": [
  {
   "cell_type": "markdown",
   "metadata": {},
   "source": [
    "Set up a proportion:<br>\n",
    "$\\frac{n1}{d1}=\\frac{n2}{d2}$\n"
   ]
  },
  {
   "cell_type": "code",
   "execution_count": 1,
   "metadata": {},
   "outputs": [
    {
     "name": "stdout",
     "output_type": "stream",
     "text": [
      "d2 =  8.0\n"
     ]
    }
   ],
   "source": [
    "# Put a zero in for the unknown value\n",
    "n1 = 1\n",
    "d1 = 2\n",
    "n2 = 4\n",
    "d2 = 0\n",
    "\n",
    "if n2==0:\n",
    "    answer = d2 * n1 / d1\n",
    "    print(\"n2 = \", answer)\n",
    "\n",
    "if d2==0:\n",
    "    answer = n2 * d1 / n1\n",
    "    print(\"d2 = \", answer)\n"
   ]
  },
  {
   "cell_type": "markdown",
   "metadata": {},
   "source": [
    "### Week 2: Solving for X: Basic Algebra, Solving Equations (1 Variables)\n",
    "\n",
    "Solving for x. The variable `eq` is the equation set equal to zero. This will print an array of solutions."
   ]
  },
  {
   "cell_type": "code",
   "execution_count": 5,
   "metadata": {},
   "outputs": [
    {
     "name": "stdout",
     "output_type": "stream",
     "text": [
      "Defaulting to user installation because normal site-packages is not writeable\n",
      "Collecting sympy\n",
      "  Downloading sympy-1.12.1-py3-none-any.whl.metadata (12 kB)\n",
      "Collecting mpmath<1.4.0,>=1.1.0 (from sympy)\n",
      "  Downloading mpmath-1.3.0-py3-none-any.whl.metadata (8.6 kB)\n",
      "Downloading sympy-1.12.1-py3-none-any.whl (5.7 MB)\n",
      "   ---------------------------------------- 0.0/5.7 MB ? eta -:--:--\n",
      "   ---------------------------------------- 0.0/5.7 MB 1.4 MB/s eta 0:00:05\n",
      "    --------------------------------------- 0.1/5.7 MB 1.7 MB/s eta 0:00:04\n",
      "   - -------------------------------------- 0.2/5.7 MB 1.9 MB/s eta 0:00:03\n",
      "   -- ------------------------------------- 0.4/5.7 MB 2.4 MB/s eta 0:00:03\n",
      "   ---- ----------------------------------- 0.7/5.7 MB 3.2 MB/s eta 0:00:02\n",
      "   ---- ----------------------------------- 0.7/5.7 MB 3.2 MB/s eta 0:00:02\n",
      "   ----- ---------------------------------- 0.8/5.7 MB 2.8 MB/s eta 0:00:02\n",
      "   ------ --------------------------------- 0.9/5.7 MB 2.8 MB/s eta 0:00:02\n",
      "   ------ --------------------------------- 1.0/5.7 MB 2.5 MB/s eta 0:00:02\n",
      "   ------- -------------------------------- 1.1/5.7 MB 2.5 MB/s eta 0:00:02\n",
      "   ------- -------------------------------- 1.1/5.7 MB 2.5 MB/s eta 0:00:02\n",
      "   ------- -------------------------------- 1.1/5.7 MB 2.1 MB/s eta 0:00:03\n",
      "   -------- ------------------------------- 1.3/5.7 MB 2.3 MB/s eta 0:00:02\n",
      "   ---------- ----------------------------- 1.5/5.7 MB 2.5 MB/s eta 0:00:02\n",
      "   ---------- ----------------------------- 1.6/5.7 MB 2.4 MB/s eta 0:00:02\n",
      "   ------------- -------------------------- 1.9/5.7 MB 2.6 MB/s eta 0:00:02\n",
      "   -------------- ------------------------- 2.0/5.7 MB 2.6 MB/s eta 0:00:02\n",
      "   --------------- ------------------------ 2.2/5.7 MB 2.6 MB/s eta 0:00:02\n",
      "   --------------- ------------------------ 2.3/5.7 MB 2.6 MB/s eta 0:00:02\n",
      "   ---------------- ----------------------- 2.4/5.7 MB 2.6 MB/s eta 0:00:02\n",
      "   ---------------- ----------------------- 2.4/5.7 MB 2.5 MB/s eta 0:00:02\n",
      "   ----------------- ---------------------- 2.5/5.7 MB 2.5 MB/s eta 0:00:02\n",
      "   ------------------ --------------------- 2.6/5.7 MB 2.5 MB/s eta 0:00:02\n",
      "   ------------------- -------------------- 2.8/5.7 MB 2.5 MB/s eta 0:00:02\n",
      "   -------------------- ------------------- 2.9/5.7 MB 2.5 MB/s eta 0:00:02\n",
      "   -------------------- ------------------- 3.0/5.7 MB 2.5 MB/s eta 0:00:02\n",
      "   --------------------- ------------------ 3.1/5.7 MB 2.5 MB/s eta 0:00:02\n",
      "   ---------------------- ----------------- 3.2/5.7 MB 2.5 MB/s eta 0:00:02\n",
      "   ----------------------- ---------------- 3.3/5.7 MB 2.5 MB/s eta 0:00:01\n",
      "   ----------------------- ---------------- 3.4/5.7 MB 2.5 MB/s eta 0:00:01\n",
      "   ------------------------ --------------- 3.5/5.7 MB 2.5 MB/s eta 0:00:01\n",
      "   ------------------------- -------------- 3.7/5.7 MB 2.5 MB/s eta 0:00:01\n",
      "   -------------------------- ------------- 3.8/5.7 MB 2.5 MB/s eta 0:00:01\n",
      "   -------------------------- ------------- 3.8/5.7 MB 2.4 MB/s eta 0:00:01\n",
      "   --------------------------- ------------ 3.9/5.7 MB 2.4 MB/s eta 0:00:01\n",
      "   ---------------------------- ----------- 4.0/5.7 MB 2.4 MB/s eta 0:00:01\n",
      "   ---------------------------- ----------- 4.1/5.7 MB 2.4 MB/s eta 0:00:01\n",
      "   ----------------------------- ---------- 4.2/5.7 MB 2.4 MB/s eta 0:00:01\n",
      "   ------------------------------ --------- 4.4/5.7 MB 2.5 MB/s eta 0:00:01\n",
      "   ------------------------------- -------- 4.5/5.7 MB 2.4 MB/s eta 0:00:01\n",
      "   -------------------------------- ------- 4.6/5.7 MB 2.4 MB/s eta 0:00:01\n",
      "   -------------------------------- ------- 4.7/5.7 MB 2.4 MB/s eta 0:00:01\n",
      "   --------------------------------- ------ 4.9/5.7 MB 2.4 MB/s eta 0:00:01\n",
      "   ---------------------------------- ----- 5.0/5.7 MB 2.4 MB/s eta 0:00:01\n",
      "   ----------------------------------- ---- 5.1/5.7 MB 2.4 MB/s eta 0:00:01\n",
      "   ------------------------------------ --- 5.2/5.7 MB 2.4 MB/s eta 0:00:01\n",
      "   ------------------------------------ --- 5.2/5.7 MB 2.4 MB/s eta 0:00:01\n",
      "   ------------------------------------- -- 5.3/5.7 MB 2.4 MB/s eta 0:00:01\n",
      "   ------------------------------------- -- 5.4/5.7 MB 2.4 MB/s eta 0:00:01\n",
      "   -------------------------------------- - 5.5/5.7 MB 2.3 MB/s eta 0:00:01\n",
      "   -------------------------------------- - 5.6/5.7 MB 2.4 MB/s eta 0:00:01\n",
      "   ---------------------------------------  5.7/5.7 MB 2.4 MB/s eta 0:00:01\n",
      "   ---------------------------------------- 5.7/5.7 MB 2.3 MB/s eta 0:00:00\n",
      "Downloading mpmath-1.3.0-py3-none-any.whl (536 kB)\n",
      "   ---------------------------------------- 0.0/536.2 kB ? eta -:--:--\n",
      "    --------------------------------------- 10.2/536.2 kB ? eta -:--:--\n",
      "    --------------------------------------- 10.2/536.2 kB ? eta -:--:--\n",
      "    --------------------------------------- 10.2/536.2 kB ? eta -:--:--\n",
      "   ----------- -------------------------- 163.8/536.2 kB 893.0 kB/s eta 0:00:01\n",
      "   ------------- ------------------------ 194.6/536.2 kB 908.0 kB/s eta 0:00:01\n",
      "   ------------- ------------------------ 194.6/536.2 kB 908.0 kB/s eta 0:00:01\n",
      "   -------------------- ----------------- 286.7/536.2 kB 842.9 kB/s eta 0:00:01\n",
      "   ------------------------ ------------- 348.2/536.2 kB 901.1 kB/s eta 0:00:01\n",
      "   -------------------------- ----------- 378.9/536.2 kB 945.2 kB/s eta 0:00:01\n",
      "   -------------------------- ----------- 378.9/536.2 kB 945.2 kB/s eta 0:00:01\n",
      "   -------------------------------- ----- 460.8/536.2 kB 901.1 kB/s eta 0:00:01\n",
      "   ----------------------------------- -- 501.8/536.2 kB 898.6 kB/s eta 0:00:01\n",
      "   ----------------------------------- -- 501.8/536.2 kB 898.6 kB/s eta 0:00:01\n",
      "   -------------------------------------  522.2/536.2 kB 761.9 kB/s eta 0:00:01\n",
      "   -------------------------------------- 536.2/536.2 kB 748.2 kB/s eta 0:00:00\n",
      "Installing collected packages: mpmath, sympy\n",
      "Successfully installed mpmath-1.3.0 sympy-1.12.1\n",
      "x =  [2]\n"
     ]
    }
   ],
   "source": [
    "!pip install sympy\n",
    "import sympy \n",
    "from sympy import symbols \n",
    "from sympy.solvers import solve \n",
    "\n",
    "x = symbols('x') \n",
    "\n",
    "# Put the equation here\n",
    "eq = 2*x - 4\n",
    "\n",
    "print(\"x = \", solve(eq,x))\n",
    "\n"
   ]
  },
  {
   "cell_type": "code",
   "execution_count": 6,
   "metadata": {},
   "outputs": [
    {
     "name": "stdout",
     "output_type": "stream",
     "text": [
      "x =  [2]\n"
     ]
    }
   ],
   "source": [
    "import sympy \n",
    "from sympy import symbols \n",
    "from sympy.solvers import solve \n",
    "\n",
    "x = symbols('x') \n",
    "\n",
    "# Put the equation here\n",
    "eq = 2*x - 4\n",
    "\n",
    "print(\"x = \", solve(eq,x))\n"
   ]
  },
  {
   "cell_type": "markdown",
   "metadata": {},
   "source": [
    "#### Square root"
   ]
  },
  {
   "cell_type": "code",
   "execution_count": 8,
   "metadata": {},
   "outputs": [
    {
     "name": "stdout",
     "output_type": "stream",
     "text": [
      "x =  [-sqrt(2), sqrt(2)]\n"
     ]
    }
   ],
   "source": [
    "import sympy \n",
    "from sympy import symbols \n",
    "from sympy.solvers import solve \n",
    "\n",
    "x = symbols('x') \n",
    "\n",
    "# Put the equation here\n",
    "eq = x**2 - 2\n",
    "\n",
    "print(\"x = \", solve(eq,x))\n"
   ]
  },
  {
   "cell_type": "markdown",
   "metadata": {},
   "source": [
    "Changing 2 into 4"
   ]
  },
  {
   "cell_type": "code",
   "execution_count": 1,
   "metadata": {},
   "outputs": [
    {
     "name": "stdout",
     "output_type": "stream",
     "text": [
      "x =  [-2, 2]\n"
     ]
    }
   ],
   "source": [
    "import sympy \n",
    "from sympy import symbols \n",
    "from sympy.solvers import solve \n",
    "\n",
    "x = symbols('x') \n",
    "\n",
    "# Put the equation here\n",
    "eq = x**2 - 4\n",
    "\n",
    "print(\"x = \", solve(eq,x))\n"
   ]
  },
  {
   "cell_type": "markdown",
   "metadata": {},
   "source": [
    "Python Syntax for Equation"
   ]
  },
  {
   "cell_type": "code",
   "execution_count": 2,
   "metadata": {},
   "outputs": [
    {
     "name": "stdout",
     "output_type": "stream",
     "text": [
      "x =  [2]\n"
     ]
    }
   ],
   "source": [
    "x = symbols('x') \n",
    "\n",
    "# Put the equation here\n",
    "eq = 2*x - 4\n",
    "\n",
    "print(\"x = \", solve(eq,x))"
   ]
  },
  {
   "cell_type": "markdown",
   "metadata": {},
   "source": [
    "More Problem"
   ]
  },
  {
   "cell_type": "code",
   "execution_count": 4,
   "metadata": {},
   "outputs": [
    {
     "data": {
      "text/plain": [
       "[-1/2]"
      ]
     },
     "execution_count": 4,
     "metadata": {},
     "output_type": "execute_result"
    }
   ],
   "source": [
    "x = symbols('x') \n",
    "\n",
    "# Put the equation here\n",
    "eq = 2*x + 1\n",
    "\n",
    "solve(eq,x)\n"
   ]
  },
  {
   "cell_type": "markdown",
   "metadata": {},
   "source": [
    "Example Using Function for Square Roots"
   ]
  },
  {
   "cell_type": "code",
   "execution_count": 5,
   "metadata": {},
   "outputs": [
    {
     "data": {
      "text/plain": [
       "[-sqrt(2), sqrt(2)]"
      ]
     },
     "execution_count": 5,
     "metadata": {},
     "output_type": "execute_result"
    }
   ],
   "source": [
    "x = symbols('x') \n",
    "\n",
    "# Put the equation here\n",
    "eq = 2*x**2 - 4\n",
    "\n",
    "solve(eq,x)\n"
   ]
  },
  {
   "cell_type": "markdown",
   "metadata": {},
   "source": [
    "#### Prompt for someone to enter the equation, then solve"
   ]
  },
  {
   "cell_type": "code",
   "execution_count": 8,
   "metadata": {},
   "outputs": [
    {
     "name": "stdout",
     "output_type": "stream",
     "text": [
      "x =  [2]\n"
     ]
    }
   ],
   "source": [
    "import sympy\n",
    "from sympy import symbols\n",
    "from sympy.solvers import solve\n",
    "\n",
    "x = symbols('x')\n",
    "eq = input('Enter equation: 0 = ')\n",
    "\n",
    "print(\"x = \", solve(eq,x))\n"
   ]
  },
  {
   "cell_type": "markdown",
   "metadata": {},
   "source": [
    "#### Doing more with the solution"
   ]
  },
  {
   "cell_type": "code",
   "execution_count": 9,
   "metadata": {},
   "outputs": [
    {
     "name": "stdout",
     "output_type": "stream",
     "text": [
      "x =  2\n"
     ]
    }
   ],
   "source": [
    "import sympy \n",
    "from sympy import symbols \n",
    "from sympy.solvers import solve \n",
    "\n",
    "x = symbols('x') \n",
    "\n",
    "# Put the equation here\n",
    "eq = 2*x - 4\n",
    "\n",
    "solution = solve(eq,x)\n",
    "print(\"x = \", solution[0])"
   ]
  },
  {
   "cell_type": "markdown",
   "metadata": {},
   "source": [
    "#### Multiple Answers"
   ]
  },
  {
   "cell_type": "code",
   "execution_count": 11,
   "metadata": {},
   "outputs": [
    {
     "name": "stdout",
     "output_type": "stream",
     "text": [
      "x =  2\n"
     ]
    }
   ],
   "source": [
    "import sympy \n",
    "from sympy import symbols \n",
    "from sympy.solvers import solve \n",
    "\n",
    "x = symbols('x') \n",
    "\n",
    "# Two different ways to get the equation\n",
    "eq = 2*x - 4\n",
    "# eq = input('Enter equation: 0 = ')\n",
    "\n",
    "solution = solve(eq,x)\n",
    "for s in solution:\n",
    "    print(\"x = \", s)"
   ]
  },
  {
   "cell_type": "code",
   "execution_count": 13,
   "metadata": {},
   "outputs": [
    {
     "name": "stdout",
     "output_type": "stream",
     "text": [
      "x =  -2\n",
      "x =  1\n",
      "x =  3\n"
     ]
    }
   ],
   "source": [
    "import sympy \n",
    "from sympy import symbols \n",
    "from sympy.solvers import solve \n",
    "\n",
    "x = symbols('x') \n",
    "\n",
    "# Two different ways to get the equation\n",
    "# eq = 2*x - 4\n",
    "eq = input('Enter equation: 0 = ')\n",
    "\n",
    "solution = solve(eq,x)\n",
    "for s in solution:\n",
    "    print(\"x = \", s)"
   ]
  },
  {
   "cell_type": "markdown",
   "metadata": {},
   "source": [
    "#### Solving the Other Way"
   ]
  },
  {
   "cell_type": "code",
   "execution_count": 1,
   "metadata": {},
   "outputs": [
    {
     "name": "stdout",
     "output_type": "stream",
     "text": [
      "x =  -5\n"
     ]
    }
   ],
   "source": [
    "from sympy import *\n",
    "\n",
    "\n",
    "var('x y') \n",
    "\n",
    "# First equation set equal to zero, ready to solve\n",
    "first = 2*x + 10\n",
    "\n",
    "\n",
    "# Sympy syntax for equation equal to zero, ready to factor\n",
    "eq1 = Eq(first,0) \n",
    "\n",
    "# Sympy solve for x\n",
    "sol = solve(eq1,x) \n",
    "\n",
    "# Show factored results\n",
    "print(\"x = \", sol[0])"
   ]
  },
  {
   "cell_type": "markdown",
   "metadata": {},
   "source": [
    "If we define y variable"
   ]
  },
  {
   "cell_type": "code",
   "execution_count": 19,
   "metadata": {},
   "outputs": [
    {
     "name": "stdout",
     "output_type": "stream",
     "text": [
      "x =  y/2 - 5\n"
     ]
    }
   ],
   "source": [
    "from sympy import *\n",
    "\n",
    "\n",
    "var('x y') \n",
    "\n",
    "# First equation set equal to zero, ready to solve\n",
    "first = 2*x + 10\n",
    "\n",
    "\n",
    "# Sympy syntax for equation equal to zero, ready to factor\n",
    "eq1 = Eq(first,y) \n",
    "\n",
    "# Sympy solve for x\n",
    "sol = solve(eq1,x) \n",
    "\n",
    "# Show factored results\n",
    "print(\"x = \", sol[0])"
   ]
  },
  {
   "cell_type": "markdown",
   "metadata": {},
   "source": [
    "If we include y variable"
   ]
  },
  {
   "cell_type": "code",
   "execution_count": 20,
   "metadata": {},
   "outputs": [
    {
     "name": "stdout",
     "output_type": "stream",
     "text": [
      "x =  y/2 - 5\n"
     ]
    }
   ],
   "source": [
    "from sympy import *\n",
    "\n",
    "\n",
    "var('x y') \n",
    "\n",
    "# First equation set equal to zero, ready to solve\n",
    "first = 2*x + 10 - y\n",
    "\n",
    "\n",
    "# Sympy syntax for equation equal to zero, ready to factor\n",
    "eq1 = Eq(first,0) \n",
    "\n",
    "# Sympy solve for x\n",
    "sol = solve(eq1,x) \n",
    "\n",
    "# Show factored results\n",
    "print(\"x = \", sol[0])"
   ]
  },
  {
   "cell_type": "markdown",
   "metadata": {},
   "source": [
    "### Factoring"
   ]
  },
  {
   "cell_type": "code",
   "execution_count": 3,
   "metadata": {},
   "outputs": [
    {
     "data": {
      "text/latex": [
       "$\\displaystyle \\left(x - 3\\right) \\left(x - 1\\right) \\left(x + 2\\right)$"
      ],
      "text/plain": [
       "(x - 3)*(x - 1)*(x + 2)"
      ]
     },
     "execution_count": 3,
     "metadata": {},
     "output_type": "execute_result"
    }
   ],
   "source": [
    "import sympy \n",
    "from sympy import * \n",
    "\n",
    "var('x y') \n",
    "\n",
    "# Equation set equal to zero, ready to solve\n",
    "#eq = x**2-4\n",
    "eq = x**3 - 2*x**2 - 5*x + 6 \n",
    "\n",
    "sympy.factor(eq)"
   ]
  },
  {
   "cell_type": "code",
   "execution_count": 2,
   "metadata": {},
   "outputs": [
    {
     "data": {
      "text/latex": [
       "$\\displaystyle 2 \\left(x + 5 y + 2\\right)$"
      ],
      "text/plain": [
       "2*(x + 5*y + 2)"
      ]
     },
     "execution_count": 2,
     "metadata": {},
     "output_type": "execute_result"
    }
   ],
   "source": [
    "import sympy \n",
    "from sympy import * \n",
    "\n",
    "var('x y') \n",
    "\n",
    "# Equation set equal to zero, ready to solve\n",
    "eq = 2*x +10*y + 4\n",
    "# eq = x**3 - 2*x**2 - 5*x + 6\n",
    "\n",
    "sympy.factor(eq)\n"
   ]
  },
  {
   "cell_type": "markdown",
   "metadata": {},
   "source": [
    "#### Explaining how each function works"
   ]
  },
  {
   "cell_type": "code",
   "execution_count": 4,
   "metadata": {},
   "outputs": [],
   "source": [
    "# converts string input (including fractions) to float\n",
    "def string_frac(in_string):\n",
    "    if \"/\" in in_string:\n",
    "        # each string will be split\n",
    "        nd = in_string.split(\"/\")\n",
    "        # make 2 arrays with elements\n",
    "        # nd[0] will be everything before\n",
    "        n = float(nd[0])\n",
    "        # nd[1] will be everything after\n",
    "        d = float(nd[1])\n",
    "        # Store the division in variable ans\n",
    "        ans = n/d\n",
    "        return ans\n",
    "    else:\n",
    "        ans = float(in_string)\n",
    "        return ans\n",
    "\n",
    "\n",
    "# Simplest one-step addition\n",
    "def one_step_add():\n",
    "    import random\n",
    "    # Display problem\n",
    "    a = random.randint(-4,10)\n",
    "    b = random.randint(2,24)\n",
    "    print(\"x + \", a, \" = \", b) \n",
    "    ans = float(input(\"x = \"))\n",
    "    answer = b-a\n",
    "    # Test input\n",
    "    if ans==answer:\n",
    "        print(\"Correct! \\n\")\n",
    "    else:\n",
    "        print(\"Try again\")\n",
    "        print(\"The correct answer is \", answer, \"\\n\")\n",
    "\n",
    "\n",
    "# One-step additon with negative numbers\n",
    "def one_step_subtract():\n",
    "    import random\n",
    "    a = random.randint(-19,-1)\n",
    "    b = random.randint(2,24)\n",
    "    print(a, \" + x = \", b)\n",
    "    ans = float(input(\"x = \"))\n",
    "    # test\n",
    "    answer = b-a\n",
    "    if ans==answer:\n",
    "        print(\"Correct! \\n\")\n",
    "    else:\n",
    "        print(\"Try again\")\n",
    "        print(\"The correct answer is \", answer, \"\\n\")\n",
    "\n",
    "# One-step multiply\n",
    "def one_step_mult():\n",
    "    # Uses string_frac(<input string>)\n",
    "    import random\n",
    "    # generate random integer between 1 - 11 (including 1 but not 11)\n",
    "    a = random.randint(1,11) \n",
    "    b = random.randint(2,24)\n",
    "    print(a, \"x = \", b) # -> it will be b\\a\n",
    "    ans_in = (input(\"x = \"))\n",
    "    answer = b/a\n",
    "    # test\n",
    "    if string_frac(ans_in)==answer:\n",
    "        print(\"Correct! \\n\")\n",
    "    else:\n",
    "        print(\"Try again\")\n",
    "        print(\"The correct answer is \", answer, \"\\n\")\n",
    "\n"
   ]
  },
  {
   "cell_type": "markdown",
   "metadata": {},
   "source": [
    "Can't do string to fraction"
   ]
  },
  {
   "cell_type": "code",
   "execution_count": 3,
   "metadata": {},
   "outputs": [
    {
     "name": "stdout",
     "output_type": "stream",
     "text": [
      "0.75\n"
     ]
    }
   ],
   "source": [
    "print(3/4)"
   ]
  },
  {
   "cell_type": "code",
   "execution_count": 4,
   "metadata": {},
   "outputs": [
    {
     "ename": "ValueError",
     "evalue": "could not convert string to float: '3/4'",
     "output_type": "error",
     "traceback": [
      "\u001b[1;31m---------------------------------------------------------------------------\u001b[0m",
      "\u001b[1;31mValueError\u001b[0m                                Traceback (most recent call last)",
      "Cell \u001b[1;32mIn[4], line 1\u001b[0m\n\u001b[1;32m----> 1\u001b[0m frac \u001b[38;5;241m=\u001b[39m \u001b[38;5;28;43mfloat\u001b[39;49m\u001b[43m(\u001b[49m\u001b[38;5;28;43minput\u001b[39;49m\u001b[43m(\u001b[49m\u001b[38;5;124;43m\"\u001b[39;49m\u001b[38;5;124;43mfraction = \u001b[39;49m\u001b[38;5;124;43m\"\u001b[39;49m\u001b[43m)\u001b[49m\u001b[43m)\u001b[49m\n\u001b[0;32m      2\u001b[0m \u001b[38;5;28mprint\u001b[39m(frac)\n",
      "\u001b[1;31mValueError\u001b[0m: could not convert string to float: '3/4'"
     ]
    }
   ],
   "source": [
    "frac = float(input(\"fraction = \"))\n",
    "print(frac)"
   ]
  },
  {
   "cell_type": "markdown",
   "metadata": {},
   "source": [
    "Run this code to practice solving one-step and two-step problems. It will give you 12 practice problems. If you don't get them all correct, you can run this again to get more practice. Your answer can be a fraction, decimal, or whole number"
   ]
  },
  {
   "cell_type": "code",
   "execution_count": 5,
   "metadata": {},
   "outputs": [
    {
     "name": "stdout",
     "output_type": "stream",
     "text": [
      "x +  5  =  8\n",
      "Correct! \n",
      "\n",
      "-14  + x =  23\n",
      "Correct! \n",
      "\n",
      "5 x =  21\n",
      "Round your answer to two decimal places.\n",
      "Correct! \n",
      "\n",
      "x/ 2  =  11\n",
      "Correct! \n",
      "\n",
      "10 x +  9  =  34\n",
      "Round answer to two decimal places\n",
      "Try again\n",
      "The correct answer is  2.5 \n",
      "\n",
      " \n",
      "x +  -2  =  20\n",
      "Try again\n",
      "The correct answer is  22 \n",
      "\n",
      "-6  + x =  7\n",
      "Correct! \n",
      "\n",
      "10 x =  19\n",
      "Round your answer to two decimal places.\n",
      "Correct! \n",
      "\n",
      "x/ 6  =  17\n",
      "Try again\n",
      "The correct answer is  102 \n",
      "\n",
      "11 x +  -6  =  4\n",
      "Round answer to two decimal places\n",
      "Try again\n",
      "The correct answer is  0.9090909090909091 \n",
      "\n",
      " \n",
      "7 x +  -2  =  10\n",
      "Round answer to two decimal places\n",
      "Try again\n",
      "The correct answer is  1.7142857142857142 \n",
      "\n",
      "9 x +  1  =  6\n",
      "Round answer to two decimal places\n"
     ]
    },
    {
     "ename": "ValueError",
     "evalue": "could not convert string to float: ''",
     "output_type": "error",
     "traceback": [
      "\u001b[1;31m---------------------------------------------------------------------------\u001b[0m",
      "\u001b[1;31mValueError\u001b[0m                                Traceback (most recent call last)",
      "Cell \u001b[1;32mIn[5], line 104\u001b[0m\n\u001b[0;32m    101\u001b[0m     \u001b[38;5;28mprint\u001b[39m(\u001b[38;5;124m\"\u001b[39m\u001b[38;5;124m \u001b[39m\u001b[38;5;124m\"\u001b[39m)\n\u001b[0;32m    103\u001b[0m two_step()\n\u001b[1;32m--> 104\u001b[0m \u001b[43mtwo_step\u001b[49m\u001b[43m(\u001b[49m\u001b[43m)\u001b[49m\n",
      "Cell \u001b[1;32mIn[5], line 88\u001b[0m, in \u001b[0;36mtwo_step\u001b[1;34m()\u001b[0m\n\u001b[0;32m     86\u001b[0m answer \u001b[38;5;241m=\u001b[39m (c \u001b[38;5;241m-\u001b[39m b) \u001b[38;5;241m/\u001b[39m a\n\u001b[0;32m     87\u001b[0m \u001b[38;5;66;03m# Test\u001b[39;00m\n\u001b[1;32m---> 88\u001b[0m \u001b[38;5;28;01mif\u001b[39;00m \u001b[38;5;28mround\u001b[39m(\u001b[43mstring_frac\u001b[49m\u001b[43m(\u001b[49m\u001b[43mans_in\u001b[49m\u001b[43m)\u001b[49m, \u001b[38;5;241m2\u001b[39m) \u001b[38;5;241m==\u001b[39m \u001b[38;5;28mround\u001b[39m(answer, \u001b[38;5;241m2\u001b[39m):\n\u001b[0;32m     89\u001b[0m     \u001b[38;5;28mprint\u001b[39m(\u001b[38;5;124m\"\u001b[39m\u001b[38;5;124mCorrect! \u001b[39m\u001b[38;5;130;01m\\n\u001b[39;00m\u001b[38;5;124m\"\u001b[39m)\n\u001b[0;32m     90\u001b[0m \u001b[38;5;28;01melse\u001b[39;00m:\n",
      "Cell \u001b[1;32mIn[5], line 10\u001b[0m, in \u001b[0;36mstring_frac\u001b[1;34m(in_string)\u001b[0m\n\u001b[0;32m      8\u001b[0m     \u001b[38;5;28;01mreturn\u001b[39;00m ans\n\u001b[0;32m      9\u001b[0m \u001b[38;5;28;01melse\u001b[39;00m:\n\u001b[1;32m---> 10\u001b[0m     ans \u001b[38;5;241m=\u001b[39m \u001b[38;5;28;43mfloat\u001b[39;49m\u001b[43m(\u001b[49m\u001b[43min_string\u001b[49m\u001b[43m)\u001b[49m\n\u001b[0;32m     11\u001b[0m     \u001b[38;5;28;01mreturn\u001b[39;00m ans\n",
      "\u001b[1;31mValueError\u001b[0m: could not convert string to float: ''"
     ]
    }
   ],
   "source": [
    "# converts string input (even fractions) to float\n",
    "def string_frac(in_string):\n",
    "    if \"/\" in in_string:\n",
    "        nd = in_string.split(\"/\")\n",
    "        n = float(nd[0])\n",
    "        d = float(nd[1])\n",
    "        ans = n / d\n",
    "        return ans\n",
    "    else:\n",
    "        ans = float(in_string)\n",
    "        return ans\n",
    "\n",
    "# Simplest one-step addition\n",
    "def one_step_add():\n",
    "    import random\n",
    "    # Display problem\n",
    "    a = random.randint(-4, 10)\n",
    "    b = random.randint(2, 24)\n",
    "    print(\"x + \", a, \" = \", b)\n",
    "    ans = float(input(\"x = \"))\n",
    "    answer = b - a\n",
    "    # Test input\n",
    "    if ans == answer:\n",
    "        print(\"Correct! \\n\")\n",
    "    else:\n",
    "        print(\"Try again\")\n",
    "        print(\"The correct answer is \", answer, \"\\n\")\n",
    "\n",
    "# One-step addition with negative numbers\n",
    "def one_step_subtract():\n",
    "    import random\n",
    "    a = random.randint(-19, -1)\n",
    "    b = random.randint(2, 24)\n",
    "    print(a, \" + x = \", b)\n",
    "    ans = float(input(\"x = \"))\n",
    "    # Test\n",
    "    answer = b - a\n",
    "    if ans == answer:\n",
    "        print(\"Correct! \\n\")\n",
    "    else:\n",
    "        print(\"Try again\")\n",
    "        print(\"The correct answer is \", answer, \"\\n\")\n",
    "\n",
    "# One-step multiply\n",
    "def one_step_mult():\n",
    "    # Uses string_frac(<input string>)\n",
    "    import random\n",
    "    a = random.randint(1, 11)\n",
    "    b = random.randint(2, 24)\n",
    "    print(a, \"x = \", b)\n",
    "    print(\"Round your answer to two decimal places.\")\n",
    "    ans_in = (input(\"x = \"))\n",
    "    answer = round(b / a, 2)\n",
    "    # Test\n",
    "    if string_frac(ans_in) == answer:\n",
    "        print(\"Correct! \\n\")\n",
    "    else:\n",
    "        print(\"Try again\")\n",
    "        print(\"The correct answer is \", answer, \"\\n\")\n",
    "\n",
    "# One-step divide\n",
    "def one_step_div():\n",
    "    import random\n",
    "    a = random.randint(1, 11)\n",
    "    b = random.randint(2, 24)\n",
    "    print(\"x/\", a, \" = \", b)\n",
    "    ans = float(input(\"x = \"))\n",
    "    answer = b * a\n",
    "    # Test\n",
    "    if ans == answer:\n",
    "        print(\"Correct! \\n\")\n",
    "    else:\n",
    "        print(\"Try again\")\n",
    "        print(\"The correct answer is \", answer, \"\\n\")\n",
    "\n",
    "# Two-step problems\n",
    "def two_step():\n",
    "    import random\n",
    "    # Uses string_frac()\n",
    "    a = random.randint(1, 11)\n",
    "    b = random.randint(-7, 12)\n",
    "    c = random.randint(2, 36)\n",
    "    print(a, \"x + \", b, \" = \", c)\n",
    "    print(\"Round answer to two decimal places\")\n",
    "    ans_in = input(\"x = \")\n",
    "    answer = (c - b) / a\n",
    "    # Test\n",
    "    if round(string_frac(ans_in), 2) == round(answer, 2):\n",
    "        print(\"Correct! \\n\")\n",
    "    else:\n",
    "        print(\"Try again\")\n",
    "        print(\"The correct answer is \", answer, \"\\n\")\n",
    "\n",
    "# Test loop\n",
    "for _ in range(2):\n",
    "    one_step_add()\n",
    "    one_step_subtract()\n",
    "    one_step_mult()\n",
    "    one_step_div()\n",
    "    two_step()\n",
    "    print(\" \")\n",
    "\n",
    "two_step()\n",
    "two_step()\n"
   ]
  }
 ],
 "metadata": {
  "language_info": {
   "name": "python"
  }
 },
 "nbformat": 4,
 "nbformat_minor": 2
}
